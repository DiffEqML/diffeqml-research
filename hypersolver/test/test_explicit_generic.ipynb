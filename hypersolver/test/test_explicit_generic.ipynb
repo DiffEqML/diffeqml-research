{
 "cells": [
  {
   "cell_type": "code",
   "execution_count": 27,
   "metadata": {},
   "outputs": [],
   "source": [
    "import sys; sys.path.append('../torchdyn')\n",
    "from torchdyn.models import *\n",
    "import torchdiffeq"
   ]
  },
  {
   "cell_type": "markdown",
   "metadata": {},
   "source": [
    "##### Test method vs `torchdiffeq`"
   ]
  },
  {
   "cell_type": "markdown",
   "metadata": {},
   "source": [
    "#### Runge-Kutta methods"
   ]
  },
  {
   "cell_type": "code",
   "execution_count": 28,
   "metadata": {},
   "outputs": [],
   "source": [
    "import collections\n",
    "ButcherTableau = collections.namedtuple('ButcherTableau', 'a, b, c, c_err')"
   ]
  },
  {
   "cell_type": "code",
   "execution_count": 85,
   "metadata": {},
   "outputs": [],
   "source": [
    "class GenericExplicitButcher(nn.Module):\n",
    "    def __init__(self, tableau):\n",
    "        super().__init__()\n",
    "        self.tab = tableau\n",
    "    \n",
    "    def forward(self, s, z, f, eps):\n",
    "        stages = []\n",
    "        for i, a in enumerate(self.tab.a): \n",
    "            stval = torch.zeros_like(z)\n",
    "            for j, stage in enumerate(stages):\n",
    "                # determine stage value\n",
    "                stval += a[j]*stages[j]\n",
    "            # evaluate f and store stage\n",
    "            stages += [f(s + tableau.c[i], z + eps*stval)]\n",
    "        return z + eps*sum([tableau.b[i]*stages[i] for i in range(len(tableau.b))])"
   ]
  },
  {
   "cell_type": "markdown",
   "metadata": {},
   "source": [
    "#### Test Euler"
   ]
  },
  {
   "cell_type": "code",
   "execution_count": 106,
   "metadata": {},
   "outputs": [
    {
     "data": {
      "text/plain": [
       "[<matplotlib.lines.Line2D at 0x7fc4db969d90>]"
      ]
     },
     "execution_count": 106,
     "metadata": {},
     "output_type": "execute_result"
    },
    {
     "data": {
      "image/png": "[encoded data removed]",
      "text/plain": [
       "<Figure size 432x288 with 1 Axes>"
      ]
     },
     "metadata": {
      "needs_background": "light"
     },
     "output_type": "display_data"
    }
   ],
   "source": [
    "tableau = ButcherTableau([[0]], [1], [0], [])\n",
    "solver = GenericExplicitButcher(tableau)\n",
    "\n",
    "def f(s, z): return -0.99*z\n",
    "z = torch.Tensor([0.9])[None]\n",
    "s_span = torch.linspace(0, 1, 100)\n",
    "\n",
    "def odeint(f, z, solver, s_span):\n",
    "    eps = s_span[1] - s_span[0]\n",
    "    traj = []\n",
    "    for i in s_span:\n",
    "        traj += [z]\n",
    "        z = solver(s, z, f, eps)\n",
    "    return torch.cat(traj)\n",
    "\n",
    "traj = odeint(f, z, solver, s_span)\n",
    "import matplotlib.pyplot as plt; plt.plot(traj)"
   ]
  },
  {
   "cell_type": "code",
   "execution_count": 87,
   "metadata": {},
   "outputs": [],
   "source": [
    "z = torch.Tensor([0.9])\n",
    "traj_torchdiffeq = torchdiffeq.odeint(f, z, method='euler', t=torch.linspace(0, 1, 100))[:, 0]\n",
    "assert((traj - traj_torchdiffeq <= 1e-2).all())"
   ]
  },
  {
   "cell_type": "code",
   "execution_count": 88,
   "metadata": {},
   "outputs": [
    {
     "name": "stdout",
     "output_type": "stream",
     "text": [
      "2.96 ms ± 54.8 µs per loop (mean ± std. dev. of 7 runs, 100 loops each)\n"
     ]
    }
   ],
   "source": [
    "%timeit z = torch.Tensor([0.9]); traj_torchdiffeq = odeint(f, z, solver, s_span)"
   ]
  },
  {
   "cell_type": "code",
   "execution_count": 89,
   "metadata": {},
   "outputs": [
    {
     "name": "stdout",
     "output_type": "stream",
     "text": [
      "3.98 ms ± 49 µs per loop (mean ± std. dev. of 7 runs, 100 loops each)\n"
     ]
    }
   ],
   "source": [
    "%timeit z = torch.Tensor([0.9]); traj = torchdiffeq.odeint(f, z, method='euler', t=torch.linspace(0, 1, 100))[:, 0]"
   ]
  },
  {
   "cell_type": "markdown",
   "metadata": {},
   "source": [
    "##### Test Explicit Midpoint"
   ]
  },
  {
   "cell_type": "code",
   "execution_count": 90,
   "metadata": {},
   "outputs": [
    {
     "data": {
      "text/plain": [
       "[<matplotlib.lines.Line2D at 0x7fc4dbc41450>]"
      ]
     },
     "execution_count": 90,
     "metadata": {},
     "output_type": "execute_result"
    },
    {
     "data": {
      "image/png": "[encoded data removed]",
      "text/plain": [
       "<Figure size 432x288 with 1 Axes>"
      ]
     },
     "metadata": {
      "needs_background": "light"
     },
     "output_type": "display_data"
    }
   ],
   "source": [
    "tableau = ButcherTableau([[0, 0], [0.5, 0]], [0, 1], [0, 0.5], [])\n",
    "solver = GenericExplicitButcher(tableau)\n",
    "\n",
    "def f(s, z): return -0.99*z\n",
    "z = torch.Tensor([0.9])\n",
    "s_span = torch.linspace(0, 1, 100)\n",
    "\n",
    "traj = odeint(f, z, solver, s_span)\n",
    "plt.plot(traj)"
   ]
  },
  {
   "cell_type": "code",
   "execution_count": 91,
   "metadata": {},
   "outputs": [],
   "source": [
    "z = torch.Tensor([0.9])\n",
    "traj_torchdiffeq = torchdiffeq.odeint(f, z, method='midpoint', t=torch.linspace(0, 1, 100))[:, 0]\n",
    "assert((traj - traj_torchdiffeq <= 1e-3).all())"
   ]
  },
  {
   "cell_type": "code",
   "execution_count": 92,
   "metadata": {},
   "outputs": [
    {
     "name": "stdout",
     "output_type": "stream",
     "text": [
      "5.27 ms ± 91.6 µs per loop (mean ± std. dev. of 7 runs, 100 loops each)\n"
     ]
    }
   ],
   "source": [
    "%timeit z = torch.Tensor([0.9]); traj_torchdiffeq = odeint(f, z, solver, s_span)"
   ]
  },
  {
   "cell_type": "code",
   "execution_count": 93,
   "metadata": {},
   "outputs": [
    {
     "name": "stdout",
     "output_type": "stream",
     "text": [
      "5.32 ms ± 89.4 µs per loop (mean ± std. dev. of 7 runs, 100 loops each)\n"
     ]
    }
   ],
   "source": [
    "%timeit z = torch.Tensor([0.9]); traj = torchdiffeq.odeint(f, z, method='midpoint', t=torch.linspace(0, 1, 100))[:, 0]"
   ]
  },
  {
   "cell_type": "markdown",
   "metadata": {},
   "source": [
    "##### Test Heun"
   ]
  },
  {
   "cell_type": "code",
   "execution_count": 94,
   "metadata": {},
   "outputs": [
    {
     "data": {
      "text/plain": [
       "[<matplotlib.lines.Line2D at 0x7fc4e897a210>]"
      ]
     },
     "execution_count": 94,
     "metadata": {},
     "output_type": "execute_result"
    },
    {
     "data": {
      "image/png": "[encoded data removed]",
      "text/plain": [
       "<Figure size 432x288 with 1 Axes>"
      ]
     },
     "metadata": {
      "needs_background": "light"
     },
     "output_type": "display_data"
    }
   ],
   "source": [
    "tableau = ButcherTableau([[0, 0], [1, 0]], [0, 1], [0.5, 0.5], [])\n",
    "solver = GenericExplicitButcher(tableau)\n",
    "\n",
    "def f(s, z): return -0.99*z\n",
    "z = torch.Tensor([0.9])\n",
    "s_span = torch.linspace(0, 1, 100)\n",
    "\n",
    "traj = odeint(f, z, solver, s_span)\n",
    "plt.plot(traj)"
   ]
  },
  {
   "cell_type": "markdown",
   "metadata": {},
   "source": [
    "##### Test Ralston"
   ]
  },
  {
   "cell_type": "code",
   "execution_count": 95,
   "metadata": {},
   "outputs": [
    {
     "data": {
      "text/plain": [
       "[<matplotlib.lines.Line2D at 0x7fc4dbbb7850>]"
      ]
     },
     "execution_count": 95,
     "metadata": {},
     "output_type": "execute_result"
    },
    {
     "data": {
      "image/png": "[encoded data removed]",
      "text/plain": [
       "<Figure size 432x288 with 1 Axes>"
      ]
     },
     "metadata": {
      "needs_background": "light"
     },
     "output_type": "display_data"
    }
   ],
   "source": [
    "tableau = ButcherTableau([[0, 0], [2/3, 0]], [0, 2/3], [1/4, 3/4], [])\n",
    "solver = GenericExplicitButcher(tableau)\n",
    "\n",
    "def f(s, z): return -0.99*z\n",
    "z = torch.Tensor([0.9])\n",
    "s_span = torch.linspace(0, 1, 100)\n",
    "\n",
    "traj = odeint(f, z, solver, s_span)\n",
    "plt.plot(traj)"
   ]
  },
  {
   "cell_type": "markdown",
   "metadata": {},
   "source": [
    "##### Test Generic 2nd order (\\alpha)"
   ]
  },
  {
   "cell_type": "code",
   "execution_count": 96,
   "metadata": {},
   "outputs": [
    {
     "data": {
      "text/plain": [
       "[<matplotlib.lines.Line2D at 0x7fc4dbb72090>]"
      ]
     },
     "execution_count": 96,
     "metadata": {},
     "output_type": "execute_result"
    },
    {
     "data": {
      "image/png": "[encoded data removed]",
      "text/plain": [
       "<Figure size 432x288 with 1 Axes>"
      ]
     },
     "metadata": {
      "needs_background": "light"
     },
     "output_type": "display_data"
    }
   ],
   "source": [
    "alpha = 1\n",
    "\n",
    "tableau = ButcherTableau([[0, 0], [alpha, 0]], [0, alpha], [1-1/(2*alpha), 1/(2*alpha)], [])\n",
    "solver = GenericExplicitButcher(tableau)\n",
    "\n",
    "def f(s, z): return -0.99*z\n",
    "z = torch.Tensor([0.9])\n",
    "s_span = torch.linspace(0, 1, 100)\n",
    "\n",
    "traj = odeint(f, z, solver, s_span)\n",
    "plt.plot(traj)"
   ]
  },
  {
   "cell_type": "markdown",
   "metadata": {},
   "source": [
    "##### Test \"Classic\" RK4"
   ]
  },
  {
   "cell_type": "code",
   "execution_count": 102,
   "metadata": {},
   "outputs": [
    {
     "data": {
      "text/plain": [
       "[<matplotlib.lines.Line2D at 0x7fc4db946bd0>]"
      ]
     },
     "execution_count": 102,
     "metadata": {},
     "output_type": "execute_result"
    },
    {
     "data": {
      "image/png": "[encoded data removed]",
      "text/plain": [
       "<Figure size 432x288 with 1 Axes>"
      ]
     },
     "metadata": {
      "needs_background": "light"
     },
     "output_type": "display_data"
    }
   ],
   "source": [
    "tableau = ButcherTableau([[0, 0, 0, 0], [0.5, 0, 0, 0], [0, 0.5, 0, 0], [0, 0, 1, 0]], [0, 0.5, 0.5, 1], [1/6, 1/3, 1/3, 1/6], [])\n",
    "solver = GenericExplicitButcher(tableau)\n",
    "\n",
    "def f(s, z): return -0.99*z\n",
    "z = torch.Tensor([0.9])\n",
    "s_span = torch.linspace(0, 1, 100)\n",
    "\n",
    "traj = odeint(f, z, solver, s_span)\n",
    "plt.plot(traj)"
   ]
  },
  {
   "cell_type": "code",
   "execution_count": 103,
   "metadata": {},
   "outputs": [],
   "source": [
    "z = torch.Tensor([0.9])\n",
    "traj_torchdiffeq = torchdiffeq.odeint(f, z, method='rk4', t=torch.linspace(0, 1, 100))[:, 0]\n",
    "assert((traj - traj_torchdiffeq <= 1e-3).all())"
   ]
  },
  {
   "cell_type": "code",
   "execution_count": 104,
   "metadata": {},
   "outputs": [
    {
     "name": "stdout",
     "output_type": "stream",
     "text": [
      "11.5 ms ± 44.1 µs per loop (mean ± std. dev. of 7 runs, 100 loops each)\n"
     ]
    }
   ],
   "source": [
    "%timeit z = torch.Tensor([0.9]); traj = odeint(f, z, solver, s_span)"
   ]
  },
  {
   "cell_type": "code",
   "execution_count": 105,
   "metadata": {},
   "outputs": [
    {
     "name": "stdout",
     "output_type": "stream",
     "text": [
      "11.1 ms ± 62.4 µs per loop (mean ± std. dev. of 7 runs, 100 loops each)\n"
     ]
    }
   ],
   "source": [
    "%timeit z = torch.Tensor([0.9]); traj_torchdiffeq = torchdiffeq.odeint(f, z, method='rk4', t=torch.linspace(0, 1, 100))[:, 0]"
   ]
  },
  {
   "cell_type": "code",
   "execution_count": null,
   "metadata": {},
   "outputs": [],
   "source": []
  }
 ],
 "metadata": {
  "kernelspec": {
   "display_name": "py37",
   "language": "python",
   "name": "py37"
  },
  "language_info": {
   "codemirror_mode": {
    "name": "ipython",
    "version": 3
   },
   "file_extension": ".py",
   "mimetype": "text/x-python",
   "name": "python",
   "nbconvert_exporter": "python",
   "pygments_lexer": "ipython3",
   "version": "3.7.7"
  }
 },
 "nbformat": 4,
 "nbformat_minor": 4
}
