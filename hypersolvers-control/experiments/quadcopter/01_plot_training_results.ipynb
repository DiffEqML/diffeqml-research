{
 "cells": [
  {
   "cell_type": "markdown",
   "source": [
    "# Training the Hypersolver - Plotting Results"
   ],
   "metadata": {}
  },
  {
   "cell_type": "code",
   "execution_count": 1,
   "source": [
    "import os, sys\r\n",
    "import matplotlib.pyplot as plt\r\n",
    "import numpy as np\r\n",
    "import torch\r\n",
    "import torch.nn as nn\r\n",
    "import sys; sys.path.append(2*'../') # go 2 dirs back\r\n",
    "from src import *\r\n",
    "from math import pi\r\n",
    "import matplotlib\r\n"
   ],
   "outputs": [],
   "metadata": {}
  },
  {
   "cell_type": "code",
   "execution_count": 2,
   "source": [
    "device = 'cpu'"
   ],
   "outputs": [],
   "metadata": {}
  },
  {
   "cell_type": "code",
   "execution_count": 3,
   "source": [
    "ControlledSystem = QuadcopterGym\r\n"
   ],
   "outputs": [],
   "metadata": {}
  },
  {
   "cell_type": "markdown",
   "source": [
    "## Generate distribution of initial conditions"
   ],
   "metadata": {}
  },
  {
   "cell_type": "code",
   "execution_count": 4,
   "source": [
    "from torch.distributions import Uniform\r\n",
    "\r\n",
    "low = -torch.ones(12).to(device)\r\n",
    "high = torch.ones(12).to(device)\r\n",
    "low[0:3]*=5\r\n",
    "high[0:3]*=5\r\n",
    "low[3:6]*=50\r\n",
    "high[3:6]*=50\r\n",
    "low[6:9]*=50\r\n",
    "high[6:9]*=50\r\n",
    "low[9:12]*=100\r\n",
    "high[9:12]*=100\r\n",
    "\r\n",
    "dist = Uniform(low, high)\r\n",
    "print(dist.sample_n(2))"
   ],
   "outputs": [
    {
     "output_type": "stream",
     "name": "stdout",
     "text": [
      "tensor([[  2.2692,   0.4009,  -1.4150, -12.4893,  -9.8831, -36.9169, -34.7797,\n",
      "         -15.0665,  21.2993,  78.6990,  23.4708, -45.4064],\n",
      "        [ -4.2104,   2.8153,  -2.3430, -28.1650,  13.6959, -21.1912, -24.7754,\n",
      "          39.9353, -39.5445, -51.5116,  72.7932, -40.0482]])\n"
     ]
    },
    {
     "output_type": "stream",
     "name": "stderr",
     "text": [
      "/home/botu/anaconda3/lib/python3.8/site-packages/torch/distributions/distribution.py:161: UserWarning: sample_n will be deprecated. Use .sample((n,)) instead\n",
      "  warnings.warn('sample_n will be deprecated. Use .sample((n,)) instead', UserWarning)\n"
     ]
    }
   ],
   "metadata": {}
  },
  {
   "cell_type": "markdown",
   "source": [
    "## New output scaling\n",
    "Since position and angular positions derivatives $\\dot{x},~\\dot{\\psi}$ propagated via the augmented state without any calculation, then there is no need to add an additional term. Indeed, doing so would just degrade the performance unless it was always 0. So we put the output scaling to 0 for updates on positions and angular positions"
   ],
   "metadata": {}
  },
  {
   "cell_type": "code",
   "execution_count": 5,
   "source": [
    "in_scal = torch.cat([1/high, 1/high])\n",
    "u_scal = 1/20000*torch.ones(4).to(device)\n",
    "in_scal = torch.cat([in_scal, u_scal])\n",
    "\n",
    "out_scal = high\n",
    "\n",
    "# Zero out positions contribution term\n",
    "out_scal[0:6] = 0 \n",
    "print('Input scaling:\\n', in_scal)\n",
    "print('Output scaling:\\n', out_scal)"
   ],
   "outputs": [
    {
     "output_type": "stream",
     "name": "stdout",
     "text": [
      "Input scaling:\n",
      " tensor([2.0000e-01, 2.0000e-01, 2.0000e-01, 2.0000e-02, 2.0000e-02, 2.0000e-02,\n",
      "        2.0000e-02, 2.0000e-02, 2.0000e-02, 1.0000e-02, 1.0000e-02, 1.0000e-02,\n",
      "        2.0000e-01, 2.0000e-01, 2.0000e-01, 2.0000e-02, 2.0000e-02, 2.0000e-02,\n",
      "        2.0000e-02, 2.0000e-02, 2.0000e-02, 1.0000e-02, 1.0000e-02, 1.0000e-02,\n",
      "        5.0000e-05, 5.0000e-05, 5.0000e-05, 5.0000e-05])\n",
      "Output scaling:\n",
      " tensor([  0.,   0.,   0.,   0.,   0.,   0.,  50.,  50.,  50., 100., 100., 100.])\n"
     ]
    }
   ],
   "metadata": {}
  },
  {
   "cell_type": "markdown",
   "source": [
    "### Scaling\n",
    "We could apply a residual loss with scaling so to give the same \"importance\" to all of the parameters"
   ],
   "metadata": {}
  },
  {
   "cell_type": "code",
   "execution_count": 6,
   "source": [
    "Δt = 0.02\n",
    "\n",
    "x_min_train, x_max_train = -1000, 1000\n",
    "\n",
    "bs_hs = 1024\n",
    "n_grid = 100\n",
    "\n"
   ],
   "outputs": [],
   "metadata": {}
  },
  {
   "cell_type": "markdown",
   "source": [
    "## Hypersolver"
   ],
   "metadata": {}
  },
  {
   "cell_type": "code",
   "execution_count": 7,
   "source": [
    "\n",
    "hdim = 64\n",
    "\n",
    "class Hypersolver(nn.Module):\n",
    "    def __init__(self):\n",
    "        super().__init__()\n",
    "        layers = [nn.Linear(28, hdim),\n",
    "            nn.Softplus(),\n",
    "        #     Snake(hdim),\n",
    "            nn.Linear(hdim, hdim),\n",
    "            nn.Softplus(),\n",
    "        #     Snake(hdim),\n",
    "            nn.Linear(hdim, 12)]\n",
    "        self.layers = nn.Sequential(*layers)\n",
    "        \n",
    "    def forward(self, t, x):\n",
    "        x = x*in_scal\n",
    "        x = self.layers(x)\n",
    "        x = x*out_scal\n",
    "        return x\n",
    "    \n",
    "hs = torch.load('saved_models/hypersolver_0.02_new_quadcopter.pt')"
   ],
   "outputs": [],
   "metadata": {}
  },
  {
   "cell_type": "markdown",
   "source": [
    "## Residuals"
   ],
   "metadata": {}
  },
  {
   "cell_type": "code",
   "execution_count": 11,
   "source": [
    "def calculate_residuals(X, u, Δt, method, hypereuler=None):\n",
    "    t_span = torch.tensor([0, Δt]).to(device)\n",
    "    with torch.no_grad():\n",
    "        x_fine = odeint(ControlledSystem(u)._dynamics, X, t_span, method='dopri5')[-1]\n",
    "        if hypereuler:\n",
    "            xfu = torch.cat([X, ControlledSystem(u)._dynamics(0, X), u.u0], -1)\n",
    "            x_coarse =  X + Δt*ControlledSystem(u)._dynamics(0, X) + (Δt**2)*hypereuler(0, xfu)\n",
    "        else:\n",
    "            x_coarse = odeint(ControlledSystem(u)._dynamics, X, t_span, method=method)[-1]\n",
    "    return torch.norm(((x_fine - x_coarse)), p=2, dim=-1)"
   ],
   "outputs": [],
   "metadata": {}
  },
  {
   "cell_type": "code",
   "execution_count": 12,
   "source": [
    "u_rand = RandConstController((3, 3), 1, 1)\n",
    "drone = ControlledSystem(u_rand)\n",
    "max_controller = drone.MAX_RPM\n",
    "\n",
    "bs = 1000\n",
    "x = dist.sample((bs,)).to(device)\n",
    "u_rand.u0 = torch.Tensor(bs, 4)[None].uniform_(0, max_controller).to(device)\n",
    "\n",
    "res_hypereuler = calculate_residuals(x[None], u_rand, Δt, 'euler', hypereuler=hs)\n",
    "res_euler = calculate_residuals(x[None], u_rand, Δt, 'euler')\n",
    "res_midpoint = calculate_residuals(x[None], u_rand, Δt, 'midpoint')\n",
    "res_rk4 = calculate_residuals(x[None], u_rand, Δt, 'rk4')"
   ],
   "outputs": [],
   "metadata": {}
  },
  {
   "cell_type": "code",
   "execution_count": 13,
   "source": [
    "res_he = res_hypereuler.squeeze(0).cpu().numpy()\n",
    "res_eu = res_euler.squeeze(0).cpu().numpy()\n",
    "res_mp = res_midpoint.squeeze(0).cpu().numpy()\n",
    "res_rk = res_rk4.squeeze(0).cpu().numpy()"
   ],
   "outputs": [],
   "metadata": {}
  },
  {
   "cell_type": "code",
   "execution_count": 31,
   "source": [
    "plt.rcParams.update({\n",
    "    \"text.usetex\": True,\n",
    "    \"font.family\": \"serif\",\n",
    "    \"font.serif\": [\"Palatino\"],\n",
    "})"
   ],
   "outputs": [],
   "metadata": {}
  },
  {
   "cell_type": "code",
   "execution_count": 36,
   "source": [
    "colors = [ 'tab:orange', 'tab:red', 'tab:green', 'tab:purple']\n",
    "labels = [ 'HyperEuler','Euler', 'Midpoint', 'RK4']\n",
    "\n",
    "\n",
    "fig, ax = plt.subplots(1,1, figsize=(4,4))\n",
    "\n",
    "bp = ax.boxplot([res_he, res_eu, res_mp, res_rk],\n",
    "                patch_artist=True, labels=labels)\n",
    "for b, m, c in zip(bp['boxes'], bp['medians'], colors):\n",
    "    b.set_facecolor(c)\n",
    "    b.set_alpha(0.6)\n",
    "    m.set(color='black', linestyle='-.')\n",
    "ax.set_yscale('log')\n",
    "# ax.set_ylim(0, 0.02)\n",
    "# ax.set_title('Quadcopter residuals distribution')\n",
    "ax.set_ylabel(r'Mean Residual $R$')\n",
    "\n",
    "# ## Saving\n",
    "import tikzplotlib\n",
    "fig.savefig('media/quadcopter_residuals.pdf',  bbox_inches = 'tight')\n",
    "tikzplotlib.save(\"media/quacopter_residuals.tex\")"
   ],
   "outputs": [
    {
     "output_type": "display_data",
     "data": {
      "image/png": "[encoded data removed]",
      "text/plain": [
       "<Figure size 288x288 with 1 Axes>"
      ]
     },
     "metadata": {
      "needs_background": "light"
     }
    }
   ],
   "metadata": {}
  }
 ],
 "metadata": {
  "kernelspec": {
   "name": "python3",
   "display_name": "Python 3.8.5 64-bit ('base': conda)"
  },
  "language_info": {
   "codemirror_mode": {
    "name": "ipython",
    "version": 3
   },
   "file_extension": ".py",
   "mimetype": "text/x-python",
   "name": "python",
   "nbconvert_exporter": "python",
   "pygments_lexer": "ipython3",
   "version": "3.8.5"
  },
  "interpreter": {
   "hash": "d77f8d9122331bf0c813f643ab906d6086736a1197fa074182ffff0b1ac62f18"
  }
 },
 "nbformat": 4,
 "nbformat_minor": 4
}