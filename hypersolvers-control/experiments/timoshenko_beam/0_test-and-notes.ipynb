{
 "cells": [
  {
   "cell_type": "code",
   "execution_count": 1,
   "id": "adaptive-ontario",
   "metadata": {
    "tags": []
   },
   "outputs": [],
   "source": [
    "import sys; sys.path.append(2*'../'); \n",
    "import torch\n",
    "from torch import nn\n",
    "from torchdyn.numerics import odeint\n",
    "\n",
    "import time\n",
    "\n",
    "import matplotlib.pyplot as plt\n",
    "\n",
    "device = torch.device(\"cuda:1\" if torch.cuda.is_available() else \"cpu\")"
   ]
  },
  {
   "cell_type": "code",
   "execution_count": 2,
   "id": "d57693fc-db8e-495d-b293-3bc1299e71f6",
   "metadata": {},
   "outputs": [
    {
     "name": "stdout",
     "output_type": "stream",
     "text": [
      "NVIDIA GeForce RTX 3090\n",
      "NVIDIA GeForce RTX 3090\n"
     ]
    }
   ],
   "source": [
    "print(torch.cuda.get_device_name(0))\n",
    "print(torch.cuda.get_device_name(1))\n",
    "device = torch.device(\"cpu\")\n",
    "# device = torch.device(\"cuda:1\")"
   ]
  },
  {
   "cell_type": "code",
   "execution_count": 3,
   "id": "hungarian-broadway",
   "metadata": {
    "tags": []
   },
   "outputs": [],
   "source": [
    "x_dict = {'v_t': torch.tensor([1.   , 0.95 , 0.975, 0.9  , 0.925, 0.85 , 0.875, 0.8  , 0.825,\n",
    "        0.75 , 0.775, 0.7  , 0.725, 0.65 , 0.675, 0.6  , 0.625, 0.55 ,\n",
    "        0.575, 0.5  , 0.525, 0.45 , 0.475, 0.4  , 0.425, 0.35 , 0.375,\n",
    "        0.3  , 0.325, 0.25 , 0.275, 0.2  , 0.225, 0.15 , 0.175, 0.1  ,\n",
    "        0.125, 0.05 , 0.075, 0.025]),\n",
    " 'v_r': torch.tensor([0.95 , 1.   , 0.975, 0.9  , 0.925, 0.85 , 0.875, 0.8  , 0.825,\n",
    "        0.75 , 0.775, 0.7  , 0.725, 0.65 , 0.675, 0.6  , 0.625, 0.55 ,\n",
    "        0.575, 0.5  , 0.525, 0.45 , 0.475, 0.4  , 0.425, 0.35 , 0.375,\n",
    "        0.3  , 0.325, 0.25 , 0.275, 0.2  , 0.225, 0.15 , 0.175, 0.1  ,\n",
    "        0.125, 0.05 , 0.075, 0.025]),\n",
    " 'sig_r': torch.tensor([0.95, 1.  , 0.9 , 0.95, 0.85, 0.9 , 0.8 , 0.85, 0.75, 0.8 , 0.7 ,\n",
    "        0.75, 0.65, 0.7 , 0.6 , 0.65, 0.55, 0.6 , 0.5 , 0.55, 0.45, 0.5 ,\n",
    "        0.4 , 0.45, 0.35, 0.4 , 0.3 , 0.35, 0.25, 0.3 , 0.2 , 0.25, 0.15,\n",
    "        0.2 , 0.1 , 0.15, 0.05, 0.1 , 0.  , 0.05]),\n",
    " 'sig_t': torch.tensor([0.95, 1.  , 0.9 , 0.95, 0.85, 0.9 , 0.8 , 0.85, 0.75, 0.8 , 0.7 ,\n",
    "        0.75, 0.65, 0.7 , 0.6 , 0.65, 0.55, 0.6 , 0.5 , 0.55, 0.45, 0.5 ,\n",
    "        0.4 , 0.45, 0.35, 0.4 , 0.3 , 0.35, 0.25, 0.3 , 0.2 , 0.25, 0.15,\n",
    "        0.2 , 0.1 , 0.15, 0.05, 0.1 , 0.  , 0.05])}"
   ]
  },
  {
   "cell_type": "code",
   "execution_count": 4,
   "id": "heavy-atlas",
   "metadata": {
    "jupyter": {
     "source_hidden": true
    },
    "tags": []
   },
   "outputs": [],
   "source": [
    "dofs_dict = {'v_t': [0,\n",
    "  1,\n",
    "  3,\n",
    "  10,\n",
    "  12,\n",
    "  18,\n",
    "  20,\n",
    "  26,\n",
    "  28,\n",
    "  34,\n",
    "  36,\n",
    "  42,\n",
    "  44,\n",
    "  50,\n",
    "  52,\n",
    "  58,\n",
    "  60,\n",
    "  66,\n",
    "  68,\n",
    "  74,\n",
    "  76,\n",
    "  82,\n",
    "  84,\n",
    "  90,\n",
    "  92,\n",
    "  98,\n",
    "  100,\n",
    "  106,\n",
    "  108,\n",
    "  114,\n",
    "  116,\n",
    "  122,\n",
    "  124,\n",
    "  130,\n",
    "  132,\n",
    "  138,\n",
    "  140,\n",
    "  146,\n",
    "  148,\n",
    "  154],\n",
    " 'v_r': [2,\n",
    "  4,\n",
    "  5,\n",
    "  11,\n",
    "  13,\n",
    "  19,\n",
    "  21,\n",
    "  27,\n",
    "  29,\n",
    "  35,\n",
    "  37,\n",
    "  43,\n",
    "  45,\n",
    "  51,\n",
    "  53,\n",
    "  59,\n",
    "  61,\n",
    "  67,\n",
    "  69,\n",
    "  75,\n",
    "  77,\n",
    "  83,\n",
    "  85,\n",
    "  91,\n",
    "  93,\n",
    "  99,\n",
    "  101,\n",
    "  107,\n",
    "  109,\n",
    "  115,\n",
    "  117,\n",
    "  123,\n",
    "  125,\n",
    "  131,\n",
    "  133,\n",
    "  139,\n",
    "  141,\n",
    "  147,\n",
    "  149,\n",
    "  155],\n",
    " 'sig_r': [6,\n",
    "  7,\n",
    "  14,\n",
    "  15,\n",
    "  22,\n",
    "  23,\n",
    "  30,\n",
    "  31,\n",
    "  38,\n",
    "  39,\n",
    "  46,\n",
    "  47,\n",
    "  54,\n",
    "  55,\n",
    "  62,\n",
    "  63,\n",
    "  70,\n",
    "  71,\n",
    "  78,\n",
    "  79,\n",
    "  86,\n",
    "  87,\n",
    "  94,\n",
    "  95,\n",
    "  102,\n",
    "  103,\n",
    "  110,\n",
    "  111,\n",
    "  118,\n",
    "  119,\n",
    "  126,\n",
    "  127,\n",
    "  134,\n",
    "  135,\n",
    "  142,\n",
    "  143,\n",
    "  150,\n",
    "  151,\n",
    "  156,\n",
    "  157],\n",
    " 'sig_t': [8,\n",
    "  9,\n",
    "  16,\n",
    "  17,\n",
    "  24,\n",
    "  25,\n",
    "  32,\n",
    "  33,\n",
    "  40,\n",
    "  41,\n",
    "  48,\n",
    "  49,\n",
    "  56,\n",
    "  57,\n",
    "  64,\n",
    "  65,\n",
    "  72,\n",
    "  73,\n",
    "  80,\n",
    "  81,\n",
    "  88,\n",
    "  89,\n",
    "  96,\n",
    "  97,\n",
    "  104,\n",
    "  105,\n",
    "  112,\n",
    "  113,\n",
    "  120,\n",
    "  121,\n",
    "  128,\n",
    "  129,\n",
    "  136,\n",
    "  137,\n",
    "  144,\n",
    "  145,\n",
    "  152,\n",
    "  153,\n",
    "  158,\n",
    "  159]}"
   ]
  },
  {
   "cell_type": "code",
   "execution_count": 5,
   "id": "original-supervisor",
   "metadata": {},
   "outputs": [],
   "source": [
    "class ControlledSystem(nn.Module):\n",
    "    def __init__(self, A, B, u):\n",
    "        super().__init__()\n",
    "        self.A = A\n",
    "        self.B = B\n",
    "        self.u = u\n",
    "        \n",
    "    def forward(self, t, X):\n",
    "        dX = torch.einsum('ij, ...j->...i', A, X)\n",
    "        dX = dX + torch.einsum('ij, ...j->...i', B, self.u(0., X))\n",
    "        return dX"
   ]
  },
  {
   "cell_type": "markdown",
   "id": "incorporate-heart",
   "metadata": {},
   "source": [
    "### Train with `odeint`"
   ]
  },
  {
   "cell_type": "code",
   "execution_count": 6,
   "id": "spare-handbook",
   "metadata": {},
   "outputs": [],
   "source": [
    "import pytorch_lightning as pl\n",
    "from numpy import pi\n",
    "\n",
    "\n",
    "def dummy_trainloader():\n",
    "    tl = torch.utils.data.DataLoader(torch.utils.data.TensorDataset(torch.Tensor(1), torch.Tensor(1)), batch_size=1)\n",
    "    return tl\n",
    "\n",
    "trainloader = dummy_trainloader()\n",
    "x0 = torch.load('x0')[None].to(device).float()\n",
    "x_dim, u_dim = x0.shape[1], 2\n",
    "\n",
    "class Learner(pl.LightningModule):\n",
    "    def __init__(self, model:nn.Module):\n",
    "        super().__init__()\n",
    "        self.model = model.to(device)\n",
    "        self.t = torch.linspace(0, 5, 500).to(device)\n",
    "        self.z0 = x0\n",
    "        self.model.nfe = 0 \n",
    "        self.flag = 0\n",
    "        self.current_time = 0\n",
    "        \n",
    "    def forward(self):\n",
    "        _, zT = odeint(self.model, self.z0, self.t, \n",
    "                    solver='rk4')\n",
    "        return zT\n",
    "    \n",
    "    def training_step(self, batch, batch_idx):      \n",
    "        if not self.flag:\n",
    "            self.current_time = time.time()\n",
    "            self.flag = 1.        \n",
    "        fw_time = time.time() - self.current_time\n",
    "        self.current_time = time.time()\n",
    "        \n",
    "        # forward pass\n",
    "        self.model.nfe = 0\n",
    "\n",
    "        zT = self()\n",
    "        fw_nfe = self.model.nfe\n",
    "\n",
    "\n",
    "        control_loss = torch.norm(zT[:,0,dofs_dict['sig_t']], p=2, dim=-1).mean()\n",
    "        control_loss = control_loss + torch.norm(zT[:,0,dofs_dict['sig_r']], p=2, dim=-1).mean()\n",
    "        reg_loss = 1e-3*self.model.u(0., zT).abs().mean()\n",
    "        loss = control_loss + reg_loss\n",
    "        \n",
    "        # with torch.no_grad():\n",
    "        #     self.logger.experiment.log(\n",
    "        #         {\n",
    "        #             'control_loss': torch.clone(control_loss).cpu().detach(),\n",
    "        #             'reg_loss': torch.clone(reg_loss).cpu().detach(),\n",
    "        #             'train loss': torch.clone(loss).cpu().detach(),\n",
    "        #             'fw_nfe': fw_nfe,\n",
    "        #             'fw_time': fw_time\n",
    "        #         }\n",
    "        #     )\n",
    "        return {'loss': loss}   \n",
    "    \n",
    "    def configure_optimizers(self):\n",
    "        return torch.optim.Adam(self.model.parameters(), lr=0.01)\n",
    "\n",
    "    def train_dataloader(self):\n",
    "        return trainloader\n"
   ]
  },
  {
   "cell_type": "code",
   "execution_count": 7,
   "id": "efb3f7c5",
   "metadata": {},
   "outputs": [],
   "source": [
    "from src.controllers import BoxConstrainedController\n",
    "import time"
   ]
  },
  {
   "cell_type": "code",
   "execution_count": 8,
   "id": "metric-seating",
   "metadata": {
    "tags": []
   },
   "outputs": [
    {
     "name": "stderr",
     "output_type": "stream",
     "text": [
      "GPU available: True, used: False\n",
      "TPU available: False, using: 0 TPU cores\n",
      "/home/botu/anaconda3/lib/python3.8/site-packages/pytorch_lightning/utilities/distributed.py:37: UserWarning: GPU available but not used. Set the --gpus flag when calling the script.\n",
      "  warnings.warn(*args, **kwargs)\n",
      "/home/botu/anaconda3/lib/python3.8/site-packages/pytorch_lightning/utilities/distributed.py:37: UserWarning: Could not log computational graph since the `model.example_input_array` attribute is not set or `input_array` was not given\n",
      "  warnings.warn(*args, **kwargs)\n",
      "\n",
      "  | Name  | Type             | Params\n",
      "-------------------------------------------\n",
      "0 | model | ControlledSystem | 14 K  \n",
      "/home/botu/anaconda3/lib/python3.8/site-packages/pytorch_lightning/utilities/distributed.py:37: UserWarning: The dataloader, train dataloader, does not have many workers which may be a bottleneck. Consider increasing the value of the `num_workers` argument` (try 48 which is the number of cpus on this machine) in the `DataLoader` init to improve performance.\n",
      "  warnings.warn(*args, **kwargs)\n"
     ]
    },
    {
     "data": {
      "application/vnd.jupyter.widget-view+json": {
       "model_id": "8cbb23fa53654de9b9a06d095d7beccf",
       "version_major": 2,
       "version_minor": 0
      },
      "text/plain": [
       "HBox(children=(HTML(value='Training'), FloatProgress(value=1.0, bar_style='info', layout=Layout(flex='2'), max…"
      ]
     },
     "metadata": {},
     "output_type": "display_data"
    },
    {
     "name": "stderr",
     "output_type": "stream",
     "text": [
      "Saving latest checkpoint..\n"
     ]
    },
    {
     "name": "stdout",
     "output_type": "stream",
     "text": [
      "\n"
     ]
    },
    {
     "data": {
      "text/plain": [
       "1"
      ]
     },
     "execution_count": 8,
     "metadata": {},
     "output_type": "execute_result"
    }
   ],
   "source": [
    "A = torch.load('A_sys').to(device).float()\n",
    "B = torch.load('B_sys').to(device).float()\n",
    "\n",
    "import wandb\n",
    "from pytorch_lightning.loggers import WandbLogger\n",
    "\n",
    "# hdim = 16\n",
    "# u = nn.Sequential(\n",
    "#     nn.Linear(x_dim, hdim),\n",
    "#     nn.Softplus(),\n",
    "#     nn.Linear(hdim, hdim),\n",
    "#     nn.Softplus(),\n",
    "#     nnt.Linear(hdim, hdim),\n",
    "#     nn.Tanh(),\n",
    "#     nn.Linear(hdim, u_dim)).to(device)\n",
    "\n",
    "# for p in u[-1].parameters(): torch.nn.init.zeros_(p)\n",
    "\n",
    "u = BoxConstrainedController(x_dim, u_dim, h_dim=64).to(device)\n",
    "\n",
    "f = ControlledSystem(A, B, u).to(device)\n",
    "t = torch.linspace(0, 5, 500+1).to(device)\n",
    "\n",
    "\n",
    "learn = Learner(f).to(device)\n",
    "# wandb.init(project='rk4-pde')\n",
    "# logger = WandbLogger(project='rk4-pde', log_model=False)\n",
    "\n",
    "trainer = pl.Trainer(max_epochs=100, gradient_clip_val=.3) #, logger=logger\n",
    "trainer.fit(learn)"
   ]
  },
  {
   "cell_type": "code",
   "execution_count": 9,
   "id": "7ab4fee2-119c-419a-8ff8-1a449e888466",
   "metadata": {},
   "outputs": [
    {
     "data": {
      "image/png": "[encoded data removed]",
      "text/plain": [
       "<Figure size 720x360 with 3 Axes>"
      ]
     },
     "metadata": {
      "needs_background": "light"
     },
     "output_type": "display_data"
    }
   ],
   "source": [
    "t = torch.linspace(0, 5, 500+1)\n",
    "_, xT = odeint(f.to(device), x0.to(device), t, solver='rk4')\n",
    "xT = xT.detach().cpu()\n",
    "uT = f.u(0, xT.to(device))\n",
    "\n",
    "v_t = xT[:,0,dofs_dict['v_t']]\n",
    "v_r = xT[:,0,dofs_dict['v_r']]\n",
    "sig_t = xT[:,0,dofs_dict['sig_t']]\n",
    "sig_r = xT[:,0,dofs_dict['sig_r']]\n",
    "\n",
    "fig, axs = plt.subplots(3, 1, figsize=(10, 5))\n",
    "axs[0].plot(t.cpu(), v_t, ':k');\n",
    "axs[0].plot(t.cpu(), v_r, 'b');\n",
    "axs[1].plot(t.cpu(), sig_t, ':k');\n",
    "axs[1].plot(t.cpu(), sig_r, 'b');\n",
    "axs[2].plot(t.cpu(), uT[:,0,:].detach().cpu(), ':b');"
   ]
  },
  {
   "cell_type": "code",
   "execution_count": 10,
   "id": "3d84822b-f059-4f17-b18b-56d6ba2553ed",
   "metadata": {},
   "outputs": [
    {
     "data": {
      "text/plain": [
       "(-0.1, 0.1)"
      ]
     },
     "execution_count": 10,
     "metadata": {},
     "output_type": "execute_result"
    },
    {
     "data": {
      "image/png": "[encoded data removed]",
      "text/plain": [
       "<Figure size 432x288 with 4 Axes>"
      ]
     },
     "metadata": {
      "needs_background": "light"
     },
     "output_type": "display_data"
    }
   ],
   "source": [
    "v_t = xT[:,0,dofs_dict['v_t']].cpu()\n",
    "v_r = xT[:,0,dofs_dict['v_r']].cpu()\n",
    "sig_t = xT[:,0,dofs_dict['sig_t']].cpu()\n",
    "sig_r = xT[:,0,dofs_dict['sig_r']].cpu()\n",
    "\n",
    "x_v_t = x_dict['v_t'].cpu()\n",
    "x_v_r = x_dict['v_r'].cpu()\n",
    "x_sig_t = x_dict['sig_t'].cpu()\n",
    "x_sig_r = x_dict['sig_r'].cpu()\n",
    "\n",
    "\n",
    "fig, axs = plt.subplots(2, 2)\n",
    "axs[0,0].scatter(x_v_t, v_t[-1])\n",
    "axs[0,1].scatter(x_v_r, v_r[-1])\n",
    "axs[1,0].scatter(x_sig_t, sig_t[-1])\n",
    "axs[1,1].scatter(x_sig_r, sig_r[-1])\n",
    "axs[0,0].scatter(x_v_t, v_t[0])\n",
    "axs[0,1].scatter(x_v_r, v_r[0])\n",
    "axs[1,0].scatter(x_sig_t, sig_t[0])\n",
    "axs[1,1].scatter(x_sig_r, sig_r[0])\n",
    "\n",
    "axs[1,0].set_ylim([-.1, .1])\n",
    "axs[1,1].set_ylim([-.1, .1])"
   ]
  },
  {
   "cell_type": "markdown",
   "id": "a55b067a-3af4-4a78-9d38-b4d8b427cf41",
   "metadata": {},
   "source": [
    "## Calculate stiffness coefficient\n",
    "\n",
    "Considering the following system:\n",
    "\n",
    "$$y'(x) = Ay(x), ~ A \\in \\mathbb{R}^{n \\times n}$$\n",
    "\n",
    "which is, our Timoshenko beam without the controller\n",
    "\n",
    "If $Re(\\lambda_i) < 0 ~ \\forall i\\in [1, n]$, or the real part of the eigenvalues is always negative, then the stiffness coefficient can be calculated as:\n",
    "\n",
    "$$q = \\frac{ max|Re(\\lambda_i)| ,~ i = 1, \\dots, n}{ min | Re(\\lambda_i)|, ~ i=1, \\dots, n }$$\n"
   ]
  },
  {
   "cell_type": "code",
   "execution_count": 33,
   "id": "131cddd5-1427-4abb-b4f7-bfe76d8580e9",
   "metadata": {},
   "outputs": [
    {
     "name": "stdout",
     "output_type": "stream",
     "text": [
      "tensor([-4.5411e-06, -4.5411e-06, -2.4736e-06, -2.4736e-06, -7.6331e-06,\n",
      "        -7.6331e-06, -6.1393e-06, -6.1393e-06,  4.1053e-06,  4.1053e-06,\n",
      "         1.9073e-06,  1.9073e-06,  2.5742e-06,  2.5742e-06, -1.6987e-06,\n",
      "        -1.6987e-06, -5.9605e-08, -5.9605e-08, -2.6822e-07, -2.6822e-07,\n",
      "        -7.1526e-06, -7.1526e-06, -1.9073e-06, -1.9073e-06, -7.6294e-06,\n",
      "        -7.6294e-06, -7.6294e-06, -7.6294e-06,  5.2154e-08,  5.2154e-08,\n",
      "         7.4506e-09,  7.4506e-09,  2.0117e-06,  2.0117e-06, -3.2187e-06,\n",
      "        -3.2187e-06, -1.9632e-06, -1.9632e-06, -1.4305e-06, -1.4305e-06,\n",
      "        -7.7859e-07, -7.7859e-07,  0.0000e+00,  0.0000e+00,  5.4948e-06,\n",
      "         5.4948e-06,  3.7849e-06,  3.7849e-06,  2.8610e-06,  2.8610e-06,\n",
      "         8.1062e-06,  8.1062e-06, -8.9407e-07, -8.9407e-07,  1.4305e-06,\n",
      "         1.4305e-06,  3.8072e-06,  3.8072e-06, -8.6576e-06, -8.6576e-06,\n",
      "        -2.6822e-07, -2.6822e-07,  3.0734e-07,  3.0734e-07, -3.4422e-06,\n",
      "        -3.4422e-06, -3.2317e-06, -3.2317e-06,  4.2319e-06,  4.2319e-06,\n",
      "         1.9073e-06,  1.9073e-06, -3.1292e-07, -3.1292e-07,  3.8072e-06,\n",
      "         3.8072e-06, -1.2219e-06, -1.2219e-06,  1.4305e-06,  1.4305e-06,\n",
      "         4.1131e-06,  4.1131e-06, -2.1160e-06, -2.1160e-06,  8.1658e-06,\n",
      "         8.1658e-06,  2.9820e-07,  2.9820e-07,  6.0797e-06,  6.0797e-06,\n",
      "         3.3975e-06,  3.3975e-06,  1.8924e-06,  1.8924e-06, -2.2650e-06,\n",
      "        -2.2650e-06,  2.3842e-06,  2.3842e-06,  1.7881e-06,  1.7881e-06,\n",
      "        -1.9222e-06, -1.9222e-06, -7.1526e-07, -7.1526e-07, -1.6689e-06,\n",
      "        -1.6689e-06,  2.8610e-06,  2.8610e-06, -1.8775e-06, -1.8775e-06,\n",
      "        -1.9073e-06, -1.9073e-06, -2.3544e-06, -2.3544e-06, -3.8147e-06,\n",
      "        -3.8147e-06, -1.3225e-06, -1.3225e-06, -5.6922e-06, -5.6922e-06,\n",
      "        -1.9073e-06, -1.9073e-06, -1.9055e-06, -1.9055e-06, -1.9055e-06,\n",
      "        -1.9055e-06,  5.9456e-06,  5.9456e-06, -6.1579e-06, -6.1579e-06,\n",
      "         2.9802e-06,  2.9802e-06,  3.1590e-06,  3.1590e-06,  7.7486e-07,\n",
      "         7.7486e-07,  2.6235e-06,  2.6235e-06,  3.0845e-06,  3.0845e-06,\n",
      "        -3.4869e-06, -3.4869e-06, -4.9919e-07, -4.9919e-07,  5.9139e-06,\n",
      "         5.9139e-06,  1.2275e-06,  1.2275e-06, -1.4156e-07, -1.4156e-07,\n",
      "         1.7621e-06,  1.7621e-06,  2.7968e-06,  2.7968e-06,  4.7684e-07,\n",
      "         4.7684e-07, -9.3319e-07, -9.3319e-07,  2.7828e-06,  2.7828e-06])\n",
      "tensor(8.6576e-06)\n",
      "tensor(0.)\n",
      "tensor(inf)\n"
     ]
    }
   ],
   "source": [
    "# here real part is not always negative, so ciaone\n",
    "\n",
    "eigenvalues = torch.linalg.eigvals(A)\n",
    "eig_real =  eigenvalues.real\n",
    "eig_real_abs = torch.abs(eig_real)\n",
    "q = torch.max(eig_real_abs) / torch.min(eig_real_abs)\n",
    "print(eig_real)\n",
    "print(torch.max(eig_real_abs))\n",
    "print(torch.min(eig_real_abs))\n",
    "print(q)    "
   ]
  }
 ],
 "metadata": {
  "interpreter": {
   "hash": "31f2aee4e71d21fbe5cf8b01ff0e069b9275f58929596ceb00d14d90e3e16cd6"
  },
  "kernelspec": {
   "display_name": "Python 3",
   "language": "python",
   "name": "python3"
  },
  "language_info": {
   "codemirror_mode": {
    "name": "ipython",
    "version": 3
   },
   "file_extension": ".py",
   "mimetype": "text/x-python",
   "name": "python",
   "nbconvert_exporter": "python",
   "pygments_lexer": "ipython3",
   "version": "3.8.5"
  }
 },
 "nbformat": 4,
 "nbformat_minor": 5
}
