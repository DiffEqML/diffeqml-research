{
 "cells": [
  {
   "cell_type": "code",
   "execution_count": 2,
   "source": [
    "import torch\n",
    "import torch.nn as nn\n",
    "from torchdiffeq import odeint\n",
    "import sys; sys.path.append(2*'../')\n",
    "from src import *\n",
    "import matplotlib.pyplot as plt\n",
    "\n",
    "device = torch.device('cpu') # for second gpu"
   ],
   "outputs": [],
   "metadata": {}
  },
  {
   "cell_type": "code",
   "execution_count": 3,
   "source": [
    "class SpringMass(nn.Module):\n",
    "    \"\"\"\n",
    "    Spring-mass system\n",
    "    \"\"\"\n",
    "    def __init__(self, u, m=1., k=.5):\n",
    "        super().__init__()\n",
    "        self.u = u # controller (nn.Module)\n",
    "        self.nfe = 0 # number of function evaluations\n",
    "        self.cur_f = None # current function evaluation\n",
    "        self.cur_u = None # current controller evaluation \n",
    "        self.m, self.k = m, k # physics\n",
    "        \n",
    "    def forward(self, t, x):\n",
    "        self.nfe += 1\n",
    "        q, p = x[..., :1], x[..., 1:]\n",
    "        self.cur_u = self.u(t, x)\n",
    "        dq = p/self.m\n",
    "        dp = -self.k*q + self.cur_u\n",
    "        self.cur_f = torch.cat([dq, dp], -1)\n",
    "        return self.cur_f\n",
    "\n",
    "ControlledSystem = SpringMass\n",
    "def R(X, u, Δt, method, hypereuler=None):\n",
    "    system = ControlledSystem(RandConstController((1,1), -1, 1))\n",
    "    system.u.u0 = u\n",
    "    t_span = torch.tensor([0, Δt]).to(device)\n",
    "    with torch.no_grad():\n",
    "        x_fine = odeint(system, X, t_span, method='dopri5')[-1]\n",
    "        if hypereuler:\n",
    "            xfu = torch.cat([X, system(0, X), u], -1)\n",
    "            x_coarse =  X + Δt*system(0, X) + (Δt**2)*hypereuler(xfu)\n",
    "        else:\n",
    "            x_coarse = odeint(system, X, t_span, method=method)[-1]\n",
    "        return torch.norm(x_fine - x_coarse, p=2, dim=-1)"
   ],
   "outputs": [],
   "metadata": {}
  },
  {
   "cell_type": "markdown",
   "source": [
    "## Compare multiple $\\Delta t$"
   ],
   "metadata": {}
  },
  {
   "cell_type": "code",
   "execution_count": 4,
   "source": [
    "def residual_loss(g, X, u, Δt, method, order=1):\n",
    "    system = ControlledSystem(RandConstController((1,1), -1, 1))\n",
    "    system.u.u0 = u    \n",
    "    t_span = torch.tensor([0, Δt]).to(device)\n",
    "    x_fine = odeint(system, X, t_span, method='dopri5')[-1]\n",
    "    x_coarse = odeint(system, X, t_span, method=method)[-1]\n",
    "    xfu = torch.cat([X, system(0, X), u], -1)\n",
    "    return torch.norm(x_fine - x_coarse - (Δt**(order+1))*g(xfu), p=2, dim=-1)/(Δt**(order+1))"
   ],
   "outputs": [],
   "metadata": {}
  },
  {
   "cell_type": "code",
   "execution_count": 6,
   "source": [
    "from tqdm import tqdm\n",
    "\n",
    "Δt_test = [0.01, 0.03, 0.1, 0.3, 1.0]\n",
    "hs_list = []\n",
    "\n",
    "x_min_train, x_max_train = -5, 5\n",
    "u_lim = 20\n",
    "bs_hs = 1000\n",
    "n_grid = 100\n",
    "megalosses = []"
   ],
   "outputs": [],
   "metadata": {}
  },
  {
   "cell_type": "code",
   "execution_count": 9,
   "source": [
    "\n",
    "# Train HyperEuler on multiple delta t\n",
    "for Δt in Δt_test:\n",
    "    print('Training HyperEuler with Δt = ',Δt, '...')\n",
    "    hdim = 32\n",
    "    hs = nn.Sequential(nn.Linear(5, 32), nn.Softplus(), nn.Linear(32, 32), nn.Tanh(), nn.Linear(32, 2)).to(device)\n",
    "    losses = []\n",
    "    opt_hs = torch.optim.Adam(hs.parameters(), lr=1e-3)\n",
    "    '''Hypersolver training loop with given Δt_test'''\n",
    "    for epoch in tqdm(range(10000)):\n",
    "        opt_hs.zero_grad()\n",
    "        # Randomize state and controller values\n",
    "        x = torch.Tensor(bs_hs, 2).uniform_(x_min_train, x_max_train).to(device)\n",
    "        #_grid = x.repeat(n_grid, 1, 1).detach()\n",
    "        u_rand = torch.Tensor(bs_hs, 1).uniform_(-u_lim, u_lim).to(device)\n",
    "        loss = residual_loss(hs, x[:, None, :], u_rand[:, None, :],  Δt, 'euler').mean()\n",
    "        # Optimization step\n",
    "        loss.backward()\n",
    "        opt_hs.step()\n",
    "        losses.append(loss.detach().cpu().item())\n",
    "        # print(f'Step: {epoch}, Residual loss: {loss:.3f}')\n",
    "    print(f'Residual loss: {loss:.3f}')\n",
    "    megalosses.append(losses)\n",
    "    torch.save(hs, f'saved_models/hs{Δt}.pt')\n",
    "    hs_list.append(hs)"
   ],
   "outputs": [
    {
     "output_type": "stream",
     "name": "stderr",
     "text": [
      "  0%|          | 20/10000 [00:00<00:51, 193.83it/s]"
     ]
    },
    {
     "output_type": "stream",
     "name": "stdout",
     "text": [
      "Training HyperEuler with Δt =  0.01 ...\n"
     ]
    },
    {
     "output_type": "stream",
     "name": "stderr",
     "text": [
      "100%|██████████| 10000/10000 [00:50<00:00, 198.66it/s]\n",
      "  0%|          | 17/10000 [00:00<00:59, 168.39it/s]"
     ]
    },
    {
     "output_type": "stream",
     "name": "stdout",
     "text": [
      "Residual loss: 0.022\n",
      "Training HyperEuler with Δt =  0.03 ...\n"
     ]
    },
    {
     "output_type": "stream",
     "name": "stderr",
     "text": [
      "100%|██████████| 10000/10000 [00:57<00:00, 173.40it/s]\n",
      "  0%|          | 15/10000 [00:00<01:09, 143.47it/s]"
     ]
    },
    {
     "output_type": "stream",
     "name": "stdout",
     "text": [
      "Residual loss: 0.013\n",
      "Training HyperEuler with Δt =  0.1 ...\n"
     ]
    },
    {
     "output_type": "stream",
     "name": "stderr",
     "text": [
      "100%|██████████| 10000/10000 [01:02<00:00, 161.05it/s]\n",
      "  0%|          | 15/10000 [00:00<01:06, 149.31it/s]"
     ]
    },
    {
     "output_type": "stream",
     "name": "stdout",
     "text": [
      "Residual loss: 0.012\n",
      "Training HyperEuler with Δt =  0.3 ...\n"
     ]
    },
    {
     "output_type": "stream",
     "name": "stderr",
     "text": [
      "100%|██████████| 10000/10000 [01:09<00:00, 143.18it/s]\n",
      "  0%|          | 10/10000 [00:00<01:46, 94.03it/s]"
     ]
    },
    {
     "output_type": "stream",
     "name": "stdout",
     "text": [
      "Residual loss: 0.025\n",
      "Training HyperEuler with Δt =  1.0 ...\n"
     ]
    },
    {
     "output_type": "stream",
     "name": "stderr",
     "text": [
      "100%|██████████| 10000/10000 [01:59<00:00, 83.86it/s]"
     ]
    },
    {
     "output_type": "stream",
     "name": "stdout",
     "text": [
      "Residual loss: 0.009\n"
     ]
    },
    {
     "output_type": "stream",
     "name": "stderr",
     "text": [
      "\n"
     ]
    }
   ],
   "metadata": {}
  },
  {
   "cell_type": "markdown",
   "source": [
    "## Comparison plot"
   ],
   "metadata": {}
  },
  {
   "cell_type": "code",
   "execution_count": 10,
   "source": [
    "hs_list = []\n",
    "for t in Δt_test:\n",
    "    hs_list.append(torch.load(f'saved_models/hs{t}.pt'))"
   ],
   "outputs": [],
   "metadata": {}
  },
  {
   "cell_type": "code",
   "execution_count": 11,
   "source": [
    "import matplotlib.pyplot as plt\n",
    "\n",
    "n_x, n_u = 10000, 100\n",
    "x = torch.Tensor(n_x, 2).uniform_(-2, 2).to(device)\n",
    "qp = torch.linspace(x_min_train, x_max_train, 100) ; Q, P = torch.meshgrid(qp, qp) ; x = torch.cat([Q.reshape(-1, 1), P.reshape(-1, 1)], -1).to(device)\n",
    "u = torch.linspace(-u_lim, u_lim, n_u)[:,None].to(device)\n",
    "\n",
    "X = x.repeat(n_u, 1, 1)\n",
    "U = u.repeat(n_x, 1, 1).permute(1, 0, 2)\n",
    "X = X.cpu()\n",
    "U = U.cpu()\n",
    "res_eu, res_he, res_mp, res_rk, res_dp = [], [], [], [], []\n",
    "\n",
    "for Δt, i in zip(Δt_test, range(len(Δt_test))):\n",
    "    res_eu.append(R(X, U, Δt, 'euler').cpu()) \n",
    "    res_he.append(R(X, U, Δt, 'euler', hypereuler=hs_list[i].cpu()).cpu())\n",
    "    res_mp.append(R(X, U, Δt, 'midpoint').cpu())\n",
    "    res_rk.append(R(X, U, Δt, 'rk4').cpu())\n",
    "    res_dp.append(R(X, U, Δt, 'dopri5').cpu())\n",
    "u = u.cpu().squeeze()\n"
   ],
   "outputs": [
    {
     "output_type": "stream",
     "name": "stderr",
     "text": [
      "/home/botu/anaconda3/lib/python3.8/site-packages/torch/functional.py:445: UserWarning: torch.meshgrid: in an upcoming release, it will be required to pass the indexing argument. (Triggered internally at  ../aten/src/ATen/native/TensorShape.cpp:2157.)\n",
      "  return _VF.meshgrid(tensors, **kwargs)  # type: ignore[attr-defined]\n"
     ]
    }
   ],
   "metadata": {}
  },
  {
   "cell_type": "code",
   "execution_count": 12,
   "source": [
    "plt.rcParams.update({\n",
    "    \"text.usetex\": True,\n",
    "    \"font.family\": \"serif\",\n",
    "    \"font.serif\": [\"Palatino\"],\n",
    "})"
   ],
   "outputs": [],
   "metadata": {}
  },
  {
   "cell_type": "code",
   "execution_count": 15,
   "source": [
    "\n",
    "\n",
    "alpha = .1\n",
    "\n",
    "fig, ax = plt.subplots(1, len(hs_list), figsize=(10, 2))\n",
    "# plt.tight_layout()\n",
    "\n",
    "for Δt, i in zip(Δt_test, range(len(Δt_test))):\n",
    "        # HyperEuler\n",
    "    ax[i].plot(u, res_he[i].mean(1), label='HyperEuler', color='tab:orange')\n",
    "    # ax[i].fill_between(u, res_he[i].mean(1) - res_he[i].std(1),\n",
    "    #                 res_he[i].mean(1) + res_he[i].std(1), alpha=alpha, color='tab:orange')\n",
    "    ax[i].plot(u, res_eu[i].mean(1), label='Euler', color='tab:red')\n",
    "    # ax[i].fill_between(u, res_eu[i].mean(1) - res_eu[i].std(1),\n",
    "    #                 res_eu[i].mean(1) + res_eu[i].std(1), alpha=alpha, color='tab:red')\n",
    "\n",
    "    ax[i].plot(u, res_mp[i].mean(1), label='Midpoint', color='tab:green')\n",
    "    # ax[i].fill_between(u, res_mp[i].mean(1) - res_mp[i].std(1),\n",
    "    #                 res_mp[i].mean(1) + res_mp[i].std(1), alpha=alpha, color='tab:green')\n",
    "    ax[i].plot(u, res_rk[i].mean(1), label='RK4', color='tab:purple')\n",
    "    # ax[i].fill_between(u, res_rk[i].mean(1) - res_rk[i].std(1),\n",
    "    #                 res_rk[i].mean(1) + res_rk[i].std(1), alpha=alpha, color='tab:purple')\n",
    "#     ax[i].plot(u, res_dp[i].mean(1), label='Dopri5', color='purple')\n",
    "#     ax[i].fill_between(u, res_dp[i].mean(1) - res_dp[i].std(1),\n",
    "#                     res_dp[i].mean(1) + res_dp[i].std(1), alpha=alpha, color='purple')\n",
    "    \n",
    "    ax[i].set_title(r'$\\epsilon = {}~[s]$'.format(Δt))\n",
    "    ax[i].set_xlabel(r'$u~[N]$')\n",
    "#     ax[i].legend()\n",
    "    ax[i].set_yscale('log')\n",
    "    ax[i].label_outer()\n",
    "    ax[i].set_ylim([1e-8, 1e2])\n",
    "    ax[i].set_yticks([1e-8, 1e-5, 1e-2, 1e01])\n",
    "#     ax[i].yaxis.set_major_locator(plt.MaxNLocator(5))\n",
    "    \n",
    "ax[0].set_ylabel(r'Mean Residual $R$')\n",
    "plt.legend(loc='lower center', ncol=1, bbox_to_anchor=(1.53, 0.15), fancybox=True)\n",
    "# plt.suptitle('Solver residuals with different step sizes',fontsize=14, weight='semibold', y=1.04)\n",
    "\n",
    "# ## Saving\n",
    "import tikzplotlib\n",
    "fig.savefig('media/residuals_spring_mass_multi_epsilon.pdf',  bbox_inches = 'tight')\n",
    "tikzplotlib.save(\"media/residuals_spring_mass_multi_epsilon.tex\")"
   ],
   "outputs": [
    {
     "output_type": "display_data",
     "data": {
      "image/png": "[encoded data removed]",
      "text/plain": [
       "<Figure size 720x144 with 5 Axes>"
      ]
     },
     "metadata": {
      "needs_background": "light"
     }
    }
   ],
   "metadata": {}
  }
 ],
 "metadata": {
  "kernelspec": {
   "name": "python3",
   "display_name": "Python 3.8.5 64-bit ('base': conda)"
  },
  "language_info": {
   "codemirror_mode": {
    "name": "ipython",
    "version": 3
   },
   "file_extension": ".py",
   "mimetype": "text/x-python",
   "name": "python",
   "nbconvert_exporter": "python",
   "pygments_lexer": "ipython3",
   "version": "3.8.5"
  },
  "interpreter": {
   "hash": "d77f8d9122331bf0c813f643ab906d6086736a1197fa074182ffff0b1ac62f18"
  }
 },
 "nbformat": 4,
 "nbformat_minor": 5
}