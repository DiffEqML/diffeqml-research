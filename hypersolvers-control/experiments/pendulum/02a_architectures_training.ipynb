{
 "cells": [
  {
   "cell_type": "markdown",
   "source": [
    "# Hypersolver training with different architectures"
   ],
   "metadata": {}
  },
  {
   "cell_type": "markdown",
   "source": [
    "Here we perform the training with different architectures. In particular, we consider Multi-layers Perceptrons with different activations:\n",
    "1. Tanh\n",
    "2. ReLU\n",
    "3. Snake\n",
    "And also the architecture of\n",
    "4. SIREN\n",
    "\n",
    "And save the results for an analysis on generalization"
   ],
   "metadata": {}
  },
  {
   "cell_type": "code",
   "execution_count": 63,
   "source": [
    "import torch \n",
    "import torch.nn as nn \n",
    "from warnings import warn\n",
    "import matplotlib.pyplot as plt\n",
    "import sys; sys.path.append(2*'../')\n",
    "from src import *\n",
    "\n",
    "device = torch.device('cuda:1' if(torch.cuda.is_available()) else 'cpu')\n",
    "print('Device:', device)"
   ],
   "outputs": [
    {
     "output_type": "stream",
     "name": "stdout",
     "text": [
      "Device: cuda:1\n"
     ]
    }
   ],
   "metadata": {}
  },
  {
   "cell_type": "code",
   "execution_count": 64,
   "source": [
    "device = 'cpu' # override"
   ],
   "outputs": [],
   "metadata": {}
  },
  {
   "cell_type": "code",
   "execution_count": 65,
   "source": [
    "# Reinitialize\n",
    "bs = 1000\n",
    "\n",
    "U = RandConstController([bs, 1], -3, 3)\n",
    "system = ControlledPendulum(U)"
   ],
   "outputs": [],
   "metadata": {}
  },
  {
   "cell_type": "markdown",
   "source": [
    "## Residuals computation"
   ],
   "metadata": {}
  },
  {
   "cell_type": "code",
   "execution_count": 66,
   "source": [
    "from torchdiffeq import odeint as odeint\n",
    "\n",
    "def compute_residual(system, t, Δt, x, u, hs, model='SIREN', method='dopri5' ):\n",
    "    \"\"\"\n",
    "    x: u_batch, batch, dimr\n",
    "    u: u_batch, batch, dim\n",
    "    \"\"\"\n",
    "    t_span = torch.tensor([t, t + Δt]).to(x)\n",
    "    system.u.u0 = u\n",
    "    f = system._dynamics(t, x)\n",
    "\n",
    "    if x.shape == u.shape or u.shape[1] == 16:  # plots\n",
    "        xfu = torch.cat([x, f, u], -1)\n",
    "    else:\n",
    "        xfu = torch.cat([x, f, u.repeat(1, x.shape[1], 1)], -1)\n",
    "    \n",
    "    xfu = torch.cat([x, f, u], -1)\n",
    "    if model == 'SIREN':\n",
    "        g, _ = hs(xfu) # unpack for SIREN coord (unused)\n",
    "    elif model == 'euler':\n",
    "        g = 0\n",
    "    else:\n",
    "        g = hs(xfu)\n",
    "    zd = odeint(system._dynamics, x, t_span, method=method)[-1]\n",
    "    z  = system(x, t_span).squeeze(0)[-1]\n",
    "  \n",
    "    R = (zd - z)/(Δt**2)\n",
    "    L = torch.norm(R - g, dim=-1, p=2)\n",
    "    return L                  "
   ],
   "outputs": [],
   "metadata": {}
  },
  {
   "cell_type": "code",
   "execution_count": 67,
   "source": [
    "# Common settings\n",
    "\n",
    "from math import pi\n",
    "x_min_train, x_max_train = -2*pi, 2*pi\n",
    "x_min_plot, x_max_plot = -15, 15 # we plot unexplored regions\n",
    "t = 0\n",
    "Δt = 0.1\n",
    "n_grid = 100 ; u_b = 10\n",
    "u_grid = torch.linspace(-u_b, u_b, n_grid).unsqueeze(1)\n",
    "\n",
    "\n",
    "EPOCHS = 200000\n",
    "lr = 1e-4"
   ],
   "outputs": [],
   "metadata": {}
  },
  {
   "cell_type": "markdown",
   "source": [
    "## Training the system with `SIREN-HyperEuler`"
   ],
   "metadata": {}
  },
  {
   "cell_type": "code",
   "execution_count": 68,
   "source": [
    "hs_siren = Siren(in_features=5, out_features=2, hidden_features=64, hidden_layers=2, outermost_linear=True)\n",
    "\n",
    "pytorch_total_params = sum(p.numel() for p in hs_siren.parameters())\n",
    "print(pytorch_total_params)\n",
    "# for name, param in hs.named_parameters():\n",
    "#     if param.requires_grad:\n",
    "#         print(name, param.data)"
   ],
   "outputs": [
    {
     "output_type": "stream",
     "name": "stdout",
     "text": [
      "8834\n"
     ]
    }
   ],
   "metadata": {}
  },
  {
   "cell_type": "markdown",
   "source": [
    "## Training loop SIREN-HyperEuler"
   ],
   "metadata": {}
  },
  {
   "cell_type": "code",
   "execution_count": 69,
   "source": [
    "from tqdm import trange\n",
    "\n",
    "opt = torch.optim.Adam(hs_siren.parameters(), lr=lr)\n",
    "\n",
    "losses = []\n",
    "\n",
    "bs = 1000\n",
    "count = 0\n",
    "\n",
    "with trange(0, EPOCHS, desc=\"Epochs\") as epochs:\n",
    "    for epoch in epochs:\n",
    "        opt.zero_grad()\n",
    "        \n",
    "        x = torch.Tensor(bs, 2).uniform_(x_min_train, x_max_train)\n",
    "        \n",
    "        # Choose random indices\",\n",
    "        index = torch.randint(u_grid.shape[0], (bs,))\n",
    "        u_rand = u_grid[index]\n",
    "\n",
    "        # compute again residual for hypersolver training\n",
    "        loss = compute_residual(system, t, Δt, x[:, None, :], u_rand[:, None, :], hs_siren).mean()\n",
    "\n",
    "        # optimization step\n",
    "        loss.backward()\n",
    "        opt.step()\n",
    "        \n",
    "        losses.append(loss.detach().cpu())\n",
    "        # print(f\"e:{epoch}, loss:%.3f\" % loss, end=\"\\r\")\n",
    "        epochs.set_postfix(loss=(loss.detach().cpu().item()))\n"
   ],
   "outputs": [
    {
     "output_type": "stream",
     "name": "stderr",
     "text": [
      "Epochs: 100%|██████████| 200000/200000 [27:47<00:00, 119.93it/s, loss=3.78]\n"
     ]
    }
   ],
   "metadata": {}
  },
  {
   "cell_type": "code",
   "execution_count": 70,
   "source": [
    "torch.save(hs_siren, 'saved_models/hs_siren.pt')"
   ],
   "outputs": [],
   "metadata": {}
  },
  {
   "cell_type": "code",
   "execution_count": 71,
   "source": [
    "import numpy as np\n",
    "\n",
    "dummmy = np.linspace(0,EPOCHS,EPOCHS)\n",
    "fig, ax = plt.subplots(figsize=(12,6))\n",
    "ax.set_xlabel('Epoch'); ax.set_ylabel('Loss')\n",
    "ax.plot( np.asarray(losses))\n",
    "ax.set_title('Hypersolver loss')"
   ],
   "outputs": [
    {
     "output_type": "execute_result",
     "data": {
      "text/plain": [
       "Text(0.5, 1.0, 'Hypersolver loss')"
      ]
     },
     "metadata": {},
     "execution_count": 71
    },
    {
     "output_type": "display_data",
     "data": {
      "image/png": "[encoded data removed]",
      "text/plain": [
       "<Figure size 864x432 with 1 Axes>"
      ]
     },
     "metadata": {
      "needs_background": "light"
     }
    }
   ],
   "metadata": {}
  },
  {
   "cell_type": "markdown",
   "source": [
    "## Snake"
   ],
   "metadata": {}
  },
  {
   "cell_type": "code",
   "execution_count": 72,
   "source": [
    "class SnakeHyperSolver(nn.Module):\n",
    "    def __init__(self, in_dim, out_dim, hidden_dim=32):\n",
    "        super().__init__()\n",
    "\n",
    "        # Initialize layers\n",
    "        self.fc1 = nn.Linear(in_dim, hidden_dim)\n",
    "        self.fc2 = nn.Linear(hidden_dim, hidden_dim)\n",
    "        self.fc3 = nn.Linear(hidden_dim, out_dim)\n",
    "\n",
    "        # Initialize activations\n",
    "        self.a1 = Snake(hidden_dim)\n",
    "        self.a2 = Snake(hidden_dim)\n",
    "\n",
    "    \n",
    "    def forward(self, x):\n",
    "        x = self.a1(self.fc1(x))\n",
    "        x = self.a2(self.fc2(x))\n",
    "        x = self.fc3(x)\n",
    "        return x\n",
    "\n",
    "hs_snake = SnakeHyperSolver(5, 2, hidden_dim=64)\n",
    "\n",
    "pytorch_total_params = sum(p.numel() for p in hs_snake.parameters())\n",
    "print(pytorch_total_params)"
   ],
   "outputs": [
    {
     "output_type": "stream",
     "name": "stdout",
     "text": [
      "4802\n"
     ]
    }
   ],
   "metadata": {}
  },
  {
   "cell_type": "code",
   "execution_count": 73,
   "source": [
    "opt = torch.optim.Adam(hs_snake.parameters(), lr=lr)\n",
    "\n",
    "losses = []\n",
    "\n",
    "bs = 1000\n",
    "count = 0\n",
    "\n",
    "with trange(0, EPOCHS, desc=\"Epochs\") as epochs:\n",
    "    for epoch in epochs:\n",
    "        opt.zero_grad()\n",
    "        \n",
    "        x = torch.Tensor(bs, 2).uniform_(x_min_train, x_max_train)\n",
    "        \n",
    "        # Choose random indices\",\n",
    "        index = torch.randint(u_grid.shape[0], (bs,))\n",
    "        u_rand = u_grid[index]\n",
    "\n",
    "        # compute again residual for hypersolver training\n",
    "        loss = compute_residual(system, t, Δt, x[:, None, :], u_rand[:, None, :], hs_snake, model='snake').mean()\n",
    "\n",
    "        # optimization step\n",
    "        loss.backward()\n",
    "        opt.step()\n",
    "        \n",
    "        losses.append(loss.detach().cpu())\n",
    "        # print(f\"e:{epoch}, loss:%.3f\" % loss, end=\"\\r\")\n",
    "        epochs.set_postfix(loss=(loss.detach().cpu().item()))"
   ],
   "outputs": [
    {
     "output_type": "stream",
     "name": "stderr",
     "text": [
      "Epochs: 100%|██████████| 200000/200000 [28:17<00:00, 117.85it/s, loss=0.135]\n"
     ]
    }
   ],
   "metadata": {}
  },
  {
   "cell_type": "code",
   "execution_count": 74,
   "source": [
    "import numpy as np\n",
    "\n",
    "dummmy = np.linspace(0,EPOCHS,EPOCHS)\n",
    "fig, ax = plt.subplots(figsize=(12,6))\n",
    "ax.set_xlabel('Epoch'); ax.set_ylabel('Loss')\n",
    "ax.plot( np.asarray(losses))\n",
    "ax.set_title('Hypersolver loss')"
   ],
   "outputs": [
    {
     "output_type": "execute_result",
     "data": {
      "text/plain": [
       "Text(0.5, 1.0, 'Hypersolver loss')"
      ]
     },
     "metadata": {},
     "execution_count": 74
    },
    {
     "output_type": "display_data",
     "data": {
      "image/png": "[encoded data removed]",
      "text/plain": [
       "<Figure size 864x432 with 1 Axes>"
      ]
     },
     "metadata": {
      "needs_background": "light"
     }
    }
   ],
   "metadata": {}
  },
  {
   "cell_type": "code",
   "execution_count": 75,
   "source": [
    "torch.save(hs_snake, 'saved_models/hs_snake.pt')"
   ],
   "outputs": [],
   "metadata": {}
  },
  {
   "cell_type": "markdown",
   "source": [
    "## ReLU"
   ],
   "metadata": {}
  },
  {
   "cell_type": "code",
   "execution_count": 76,
   "source": [
    "class ReLUHyperSolver(nn.Module):\n",
    "    def __init__(self, in_dim, out_dim, hidden_dim=32):\n",
    "        super().__init__()\n",
    "\n",
    "        # Initialize layers\n",
    "        self.fc1 = nn.Linear(in_dim, hidden_dim)\n",
    "        self.fc2 = nn.Linear(hidden_dim, hidden_dim)\n",
    "        self.fc3 = nn.Linear(hidden_dim, out_dim)\n",
    "\n",
    "        # Initialize activations\n",
    "        self.a1 = nn.ReLU()\n",
    "        self.a2 = nn.ReLU()\n",
    "\n",
    "    \n",
    "    def forward(self, x):\n",
    "        x = self.a1(self.fc1(x))\n",
    "        x = self.a2(self.fc2(x))\n",
    "        x = self.fc3(x)\n",
    "        return x\n",
    "\n",
    "hs_relu = ReLUHyperSolver(5, 2, hidden_dim=64)\n",
    "\n",
    "pytorch_total_params = sum(p.numel() for p in hs_relu.parameters())\n",
    "print(pytorch_total_params)"
   ],
   "outputs": [
    {
     "output_type": "stream",
     "name": "stdout",
     "text": [
      "4674\n"
     ]
    }
   ],
   "metadata": {}
  },
  {
   "cell_type": "code",
   "execution_count": 77,
   "source": [
    "opt = torch.optim.Adam(hs_relu.parameters(), lr=lr)\n",
    "\n",
    "losses = []\n",
    "\n",
    "bs = 1000\n",
    "count = 0\n",
    "\n",
    "with trange(0, EPOCHS, desc=\"Epochs\") as epochs:\n",
    "    for epoch in epochs:\n",
    "        opt.zero_grad()\n",
    "        \n",
    "        x = torch.Tensor(bs, 2).uniform_(x_min_train, x_max_train)\n",
    "        \n",
    "        # Choose random indices\",\n",
    "        index = torch.randint(u_grid.shape[0], (bs,))\n",
    "        u_rand = u_grid[index]\n",
    "\n",
    "        # compute again residual for hypersolver training\n",
    "        loss = compute_residual(system, t, Δt, x[:, None, :], u_rand[:, None, :], hs_relu, model='relu').mean()\n",
    "\n",
    "        # optimization step\n",
    "        loss.backward()\n",
    "        opt.step()\n",
    "        \n",
    "        losses.append(loss.detach().cpu())\n",
    "        # print(f\"e:{epoch}, loss:%.3f\" % loss, end=\"\\r\")\n",
    "        epochs.set_postfix(loss=(loss.detach().cpu().item()))"
   ],
   "outputs": [
    {
     "output_type": "stream",
     "name": "stderr",
     "text": [
      "Epochs: 100%|██████████| 200000/200000 [25:19<00:00, 131.61it/s, loss=0.0862]\n"
     ]
    }
   ],
   "metadata": {}
  },
  {
   "cell_type": "code",
   "execution_count": 78,
   "source": [
    "import numpy as np\n",
    "\n",
    "dummmy = np.linspace(0,EPOCHS,EPOCHS)\n",
    "fig, ax = plt.subplots(figsize=(12,6))\n",
    "ax.set_xlabel('Epoch'); ax.set_ylabel('Loss')\n",
    "ax.plot( np.asarray(losses))\n",
    "ax.set_title('Hypersolver loss')"
   ],
   "outputs": [
    {
     "output_type": "execute_result",
     "data": {
      "text/plain": [
       "Text(0.5, 1.0, 'Hypersolver loss')"
      ]
     },
     "metadata": {},
     "execution_count": 78
    },
    {
     "output_type": "display_data",
     "data": {
      "image/png": "[encoded data removed]",
      "text/plain": [
       "<Figure size 864x432 with 1 Axes>"
      ]
     },
     "metadata": {
      "needs_background": "light"
     }
    }
   ],
   "metadata": {}
  },
  {
   "cell_type": "code",
   "execution_count": 79,
   "source": [
    "torch.save(hs_relu, 'saved_models/hs_relu.pt')"
   ],
   "outputs": [],
   "metadata": {}
  },
  {
   "cell_type": "markdown",
   "source": [
    "## Tanh"
   ],
   "metadata": {}
  },
  {
   "cell_type": "code",
   "execution_count": 80,
   "source": [
    "class TanhHyperSolver(nn.Module):\n",
    "    def __init__(self, in_dim, out_dim, hidden_dim=32):\n",
    "        super().__init__()\n",
    "\n",
    "        # Initialize layers\n",
    "        self.fc1 = nn.Linear(in_dim, hidden_dim)\n",
    "        self.fc2 = nn.Linear(hidden_dim, hidden_dim)\n",
    "        self.fc3 = nn.Linear(hidden_dim, out_dim)\n",
    "\n",
    "        # Initialize activations\n",
    "        self.a1 = nn.Tanh()\n",
    "        self.a2 = nn.Tanh()\n",
    "\n",
    "    \n",
    "    def forward(self, x):\n",
    "        x = self.a1(self.fc1(x))\n",
    "        x = self.a2(self.fc2(x))\n",
    "        x = self.fc3(x)\n",
    "        return x\n",
    "\n",
    "hs_tanh = TanhHyperSolver(5, 2, hidden_dim=64)\n",
    "\n",
    "pytorch_total_params = sum(p.numel() for p in hs_tanh.parameters())\n",
    "print(pytorch_total_params)"
   ],
   "outputs": [
    {
     "output_type": "stream",
     "name": "stdout",
     "text": [
      "4674\n"
     ]
    }
   ],
   "metadata": {}
  },
  {
   "cell_type": "code",
   "execution_count": 81,
   "source": [
    "opt = torch.optim.Adam(hs_tanh.parameters(), lr=lr)\n",
    "\n",
    "losses = []\n",
    "\n",
    "bs = 1000\n",
    "count = 0\n",
    "\n",
    "with trange(0, EPOCHS, desc=\"Epochs\") as epochs:\n",
    "    for epoch in epochs:\n",
    "        opt.zero_grad()\n",
    "        \n",
    "        x = torch.Tensor(bs, 2).uniform_(x_min_train, x_max_train)\n",
    "        \n",
    "        # Choose random indices\",\n",
    "        index = torch.randint(u_grid.shape[0], (bs,))\n",
    "        u_rand = u_grid[index]\n",
    "\n",
    "        # compute again residual for hypersolver training\n",
    "        loss = compute_residual(system, t, Δt, x[:, None, :], u_rand[:, None, :], hs_tanh, model='tanh').mean()\n",
    "\n",
    "        # optimization step\n",
    "        loss.backward()\n",
    "        opt.step()\n",
    "        \n",
    "        losses.append(loss.detach().cpu())\n",
    "        # print(f\"e:{epoch}, loss:%.3f\" % loss, end=\"\\r\")\n",
    "        epochs.set_postfix(loss=(loss.detach().cpu().item()))"
   ],
   "outputs": [
    {
     "output_type": "stream",
     "name": "stderr",
     "text": [
      "Epochs: 100%|██████████| 200000/200000 [25:13<00:00, 132.13it/s, loss=0.026]\n"
     ]
    }
   ],
   "metadata": {}
  },
  {
   "cell_type": "code",
   "execution_count": 82,
   "source": [
    "import numpy as np\n",
    "\n",
    "dummmy = np.linspace(0,EPOCHS,EPOCHS)\n",
    "fig, ax = plt.subplots(figsize=(12,6))\n",
    "ax.set_xlabel('Epoch'); ax.set_ylabel('Loss')\n",
    "ax.plot( np.asarray(losses))\n",
    "ax.set_title('Hypersolver loss')"
   ],
   "outputs": [
    {
     "output_type": "execute_result",
     "data": {
      "text/plain": [
       "Text(0.5, 1.0, 'Hypersolver loss')"
      ]
     },
     "metadata": {},
     "execution_count": 82
    },
    {
     "output_type": "display_data",
     "data": {
      "image/png": "[encoded data removed]",
      "text/plain": [
       "<Figure size 864x432 with 1 Axes>"
      ]
     },
     "metadata": {
      "needs_background": "light"
     }
    }
   ],
   "metadata": {}
  },
  {
   "cell_type": "code",
   "execution_count": 83,
   "source": [
    "torch.save(hs_tanh, 'saved_models/hs_tanh.pt')"
   ],
   "outputs": [],
   "metadata": {}
  }
 ],
 "metadata": {
  "kernelspec": {
   "name": "python3",
   "display_name": "Python 3.8.5 64-bit ('base': conda)"
  },
  "language_info": {
   "codemirror_mode": {
    "name": "ipython",
    "version": 3
   },
   "file_extension": ".py",
   "mimetype": "text/x-python",
   "name": "python",
   "nbconvert_exporter": "python",
   "pygments_lexer": "ipython3",
   "version": "3.8.5"
  },
  "interpreter": {
   "hash": "d77f8d9122331bf0c813f643ab906d6086736a1197fa074182ffff0b1ac62f18"
  }
 },
 "nbformat": 4,
 "nbformat_minor": 4
}