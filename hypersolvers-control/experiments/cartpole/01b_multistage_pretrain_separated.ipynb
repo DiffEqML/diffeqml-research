{
 "cells": [
  {
   "cell_type": "markdown",
   "id": "16d24565-9caa-45d0-93c5-058cc7b4cce6",
   "metadata": {},
   "source": [
    "# Multistage Hypersolver pre-train (separated training and ablation study)"
   ]
  },
  {
   "cell_type": "code",
   "execution_count": 1,
   "id": "971ee822-db84-4008-80a5-e2db637fdea8",
   "metadata": {},
   "outputs": [],
   "source": [
    "%load_ext autoreload\n",
    "%autoreload 2\n",
    "\n",
    "import time\n",
    "import torch\n",
    "import torch.nn as nn\n",
    "import matplotlib.pyplot as plt\n",
    "from math import pi as π\n",
    "\n",
    "import sys; sys.path.append(2*'../') # go n dirs back\n",
    "from src import *\n",
    "\n",
    "from torchdyn.core import NeuralODE\n",
    "from torchdyn.datasets import *\n",
    "from torchdyn.numerics import odeint, Euler, HyperEuler\n",
    "from torchdyn.numerics.solvers import Midpoint, SolverTemplate\n",
    "from torchdyn.numerics.hypersolvers import HyperMidpoint\n",
    "\n",
    "device = 'cpu' # feel free to change!"
   ]
  },
  {
   "cell_type": "code",
   "execution_count": 2,
   "id": "7752f29d",
   "metadata": {},
   "outputs": [],
   "source": [
    "class MultiStageHypersolver(SolverTemplate):\n",
    "    \"\"\"\n",
    "    Explicit multistage ODE stepper: inner stage is a vector field corrector\n",
    "    while the outer stage is a residual approximator of the ODE solver\n",
    "    \"\"\"\n",
    "    def __init__(self, inner_stage: nn.Module, outer_stage: nn.Module,\n",
    "                       base_solver=Midpoint, dtype=torch.float32):\n",
    "        super().__init__(order=base_solver().order)\n",
    "        self.dtype = dtype\n",
    "        self.stepping_class = 'fixed'\n",
    "        self.base_solver = base_solver\n",
    "        self.inner_stage = inner_stage\n",
    "        self.outer_stage = outer_stage\n",
    "\n",
    "    def step(self, f, x, t, dt, k1=None):\n",
    "        # Correct vector field with inner stage and propagate\n",
    "        self.vector_field = f\n",
    "        _, _x_sol, _ = self.base_solver().step(self.corrected_vector_field, x, t, dt, k1=k1)\n",
    "        # Residual correction with outer stage\n",
    "        x_sol = _x_sol + dt**self.base_solver().order * self.outer_stage(t, f(t, x))\n",
    "        return _, x_sol, _ \n",
    "\n",
    "    def corrected_vector_field(self, t, x):\n",
    "        return self.vector_field(t, x) + self.inner_stage(t, x)\n",
    "\n",
    "\n",
    "class HyperNetwork(nn.Module):\n",
    "    \"\"\"Simple hypernetwork using as input the current state, vector field and controller\"\"\"\n",
    "    def __init__(self, net, sys):\n",
    "        super().__init__()\n",
    "        self.net = net\n",
    "        self.sys = sys\n",
    "    \n",
    "    def forward(self, t, x):\n",
    "        xfu = torch.cat([x, self.sys.cur_f, self.sys.cur_u], -1)\n",
    "        return self.net(xfu)\n",
    "        "
   ]
  },
  {
   "cell_type": "code",
   "execution_count": 3,
   "id": "0a87f569",
   "metadata": {},
   "outputs": [],
   "source": [
    "# System we have\n",
    "sys = CartPole(RandConstController())\n",
    "\n",
    "# Real system\n",
    "sys_nominal = CartPole(RandConstController())\n",
    "sys_nominal.frictioncart = 0.1\n",
    "sys_nominal.frictionpole = 0.03\n",
    "\n",
    "\n",
    "# Initial distribution\n",
    "x0 = 2*π # limit of the state distribution (in rads and rads/second)\n",
    "init_dist = torch.distributions.Uniform(torch.Tensor([-x0, -x0, -x0, -x0]), torch.Tensor([x0, x0, x0, x0]))\n",
    "u_min, u_max = -30, 30\n"
   ]
  },
  {
   "cell_type": "markdown",
   "id": "97d97a37-2915-483f-8ee1-6f4c16984fa6",
   "metadata": {},
   "source": [
    "## Training loop (inner stage only)\n",
    "We train via stochastic exploration\n",
    "(This will take some time)"
   ]
  },
  {
   "cell_type": "code",
   "execution_count": 4,
   "id": "e1743ebd-d343-4a0a-bf32-77d428bc9387",
   "metadata": {},
   "outputs": [
    {
     "name": "stdout",
     "output_type": "stream",
     "text": [
      "Step: 49999, Residual loss: 0.00005685\r"
     ]
    }
   ],
   "source": [
    "\n",
    "hdim = 32\n",
    "base_net_inner = nn.Sequential(nn.Linear(9, hdim), Snake(hdim), nn.Linear(hdim, hdim), Snake(hdim), nn.Linear(hdim, 4))\n",
    "base_net_outer = nn.Sequential(nn.Linear(9, hdim), Snake(hdim), nn.Linear(hdim, hdim), Snake(hdim), nn.Linear(hdim, 4))\n",
    "# base_net_inner = nn.Sequential(nn.Linear(9, 32), nn.Softplus(), nn.Linear(32, 32), nn.Tanh(), nn.Linear(32, 4))\n",
    "# base_net_outer = nn.Sequential(nn.Linear(9, 32), nn.Softplus(), nn.Linear(32, 32), nn.Tanh(), nn.Linear(32, 4))\n",
    "\n",
    "inner_stage = HyperNetwork(base_net_inner, sys)\n",
    "outer_stage = HyperNetwork(base_net_outer, sys)\n",
    "# Avoid outer stage being trained\n",
    "def dummy_stage(t, x):\n",
    "    return 0\n",
    "\n",
    "# Use only inner stage\n",
    "multistagehs = MultiStageHypersolver(inner_stage, dummy_stage, base_solver=Midpoint)\n",
    "opt = torch.optim.Adam(multistagehs.inner_stage.parameters(), lr=1e-2) # only train inner\n",
    "scheduler = torch.optim.lr_scheduler.MultiStepLR(opt, milestones=[3e5, 4e5], gamma=0.1)\n",
    "# opt = torch.optim.Adam(multistagehs.inner_stage.parameters(), lr=1e-3)\n",
    "\n",
    "loss_func = nn.MSELoss()\n",
    "epochs = 50000\n",
    "bs = 128\n",
    "dt = 0.05\n",
    "span = torch.linspace(0, dt, 2)\n",
    "losses = []\n",
    "for i in range(epochs):\n",
    "    x0 = init_dist.sample((bs,)).to(device)\n",
    "    val = torch.Tensor(bs, 1).uniform_(u_min, u_max).to(device)\n",
    "    sys.u.u0 = val\n",
    "    sys_nominal.u.u0 = val\n",
    "    \n",
    "    # Compute residuals\n",
    "    _, sol_gt = odeint(sys_nominal._dynamics, x0, span, solver='rk4')[-1]\n",
    "    _, sol_hs = odeint(sys._dynamics, x0, span, solver=multistagehs)[-1]\n",
    "    loss = loss_func(sol_gt, sol_hs)\n",
    "\n",
    "    # Optimization step\n",
    "    loss.backward(); opt.step(); opt.zero_grad(); scheduler.step()\n",
    "    print(f'Step: {i}, Residual loss: {loss:.8f}', end='\\r')\n",
    "    losses.append(loss.detach().cpu().item())"
   ]
  },
  {
   "cell_type": "code",
   "execution_count": 5,
   "id": "85951a67",
   "metadata": {},
   "outputs": [
    {
     "data": {
      "image/png": "[encoded data removed]",
      "text/plain": [
       "<Figure size 432x288 with 1 Axes>"
      ]
     },
     "metadata": {
      "needs_background": "light"
     },
     "output_type": "display_data"
    }
   ],
   "source": [
    "fig, ax = plt.subplots(1, 1)\n",
    "ax.plot(losses)\n",
    "ax.set_yscale('log')"
   ]
  },
  {
   "cell_type": "markdown",
   "id": "197ef339",
   "metadata": {},
   "source": [
    "## Outer stage training only\n",
    "This is basically finetuning once we get the first stage"
   ]
  },
  {
   "cell_type": "code",
   "execution_count": 6,
   "id": "a99294b7",
   "metadata": {},
   "outputs": [
    {
     "name": "stdout",
     "output_type": "stream",
     "text": [
      "Step: 49999, Residual loss: 0.00003245\r"
     ]
    }
   ],
   "source": [
    "base_net_outer = nn.Sequential(nn.Linear(9, hdim), Snake(hdim), nn.Linear(hdim, hdim), Snake(hdim), nn.Linear(hdim, 4))\n",
    "outer_stage = HyperNetwork(base_net_outer, sys)\n",
    "\n",
    "# Use only inner stage\n",
    "multistagehs.outer_stage = outer_stage # new outer stage in pre-trained hypersolver\n",
    "opt = torch.optim.Adam(multistagehs.outer_stage.parameters(), lr=1e-2) # only train outer stage\n",
    "scheduler = torch.optim.lr_scheduler.MultiStepLR(opt, milestones=[3e5, 4e5], gamma=0.1)\n",
    "\n",
    "loss_func = nn.MSELoss()\n",
    "epochs = 50000\n",
    "bs = 128\n",
    "dt = 0.05\n",
    "span = torch.linspace(0, dt, 2)\n",
    "losses = []\n",
    "for i in range(epochs):\n",
    "    x0 = init_dist.sample((bs,)).to(device)\n",
    "    val = torch.Tensor(bs, 1).uniform_(u_min, u_max).to(device)\n",
    "    sys.u.u0 = val\n",
    "    sys_nominal.u.u0 = val\n",
    "    \n",
    "    # Compute residuals\n",
    "    _, sol_gt = odeint(sys_nominal._dynamics, x0, span, solver='rk4')[-1]\n",
    "    _, sol_hs = odeint(sys._dynamics, x0, span, solver=multistagehs)[-1]\n",
    "    loss = loss_func(sol_gt, sol_hs)\n",
    "\n",
    "    # Optimization step\n",
    "    loss.backward(); opt.step(); opt.zero_grad(); scheduler.step()\n",
    "    print(f'Step: {i}, Residual loss: {loss:.8f}', end='\\r')\n",
    "    losses.append(loss.detach().cpu().item())"
   ]
  },
  {
   "cell_type": "code",
   "execution_count": 7,
   "id": "98ea332a",
   "metadata": {},
   "outputs": [
    {
     "data": {
      "image/png": "[encoded data removed]",
      "text/plain": [
       "<Figure size 432x288 with 1 Axes>"
      ]
     },
     "metadata": {
      "needs_background": "light"
     },
     "output_type": "display_data"
    }
   ],
   "source": [
    "fig, ax = plt.subplots(1, 1)\n",
    "ax.plot(losses)\n",
    "ax.set_yscale('log')"
   ]
  },
  {
   "cell_type": "code",
   "execution_count": 8,
   "id": "d446816b",
   "metadata": {},
   "outputs": [],
   "source": [
    "# Save the model\n",
    "torch.save(multistagehs, 'saved_models/hs_multistage_separated_snake.pt')"
   ]
  },
  {
   "cell_type": "markdown",
   "id": "c229f760",
   "metadata": {},
   "source": [
    "## Training residual one-step dynamic model\n",
    "We can use the same `multistage hypersolver` with the inner stage corrector set to zero"
   ]
  },
  {
   "cell_type": "code",
   "execution_count": 9,
   "id": "3c0a4e6c",
   "metadata": {},
   "outputs": [
    {
     "name": "stdout",
     "output_type": "stream",
     "text": [
      "Step: 49999, Residual loss: 0.00031161\r"
     ]
    }
   ],
   "source": [
    "hdim = 32\n",
    "base_net_outer = nn.Sequential(nn.Linear(9, hdim), Snake(hdim), nn.Linear(hdim, hdim), Snake(hdim), nn.Linear(hdim, 4))\n",
    "outer_stage = HyperNetwork(base_net_outer, sys)\n",
    "# Avoid outer stage being trained\n",
    "def dummy_stage(t, x):\n",
    "    return 0\n",
    "\n",
    "# Use only inner outer stage (residual dynamics)\n",
    "residual_dynamics_solver = MultiStageHypersolver(dummy_stage, outer_stage, base_solver=Midpoint)\n",
    "opt = torch.optim.Adam(residual_dynamics_solver.outer_stage.parameters(), lr=1e-2) \n",
    "scheduler = torch.optim.lr_scheduler.MultiStepLR(opt, milestones=[3e5, 4e5], gamma=0.1)\n",
    "\n",
    "loss_func = nn.MSELoss()\n",
    "epochs = 50000\n",
    "bs = 128\n",
    "dt = 0.05\n",
    "span = torch.linspace(0, dt, 2)\n",
    "losses = []\n",
    "for i in range(epochs):\n",
    "    x0 = init_dist.sample((bs,)).to(device)\n",
    "    val = torch.Tensor(bs, 1).uniform_(u_min, u_max).to(device)\n",
    "    sys.u.u0 = val\n",
    "    sys_nominal.u.u0 = val\n",
    "    \n",
    "    # Compute residuals\n",
    "    _, sol_gt = odeint(sys_nominal._dynamics, x0, span, solver='rk4')[-1]\n",
    "    _, sol_hs = odeint(sys._dynamics, x0, span, solver=residual_dynamics_solver)[-1]\n",
    "    loss = loss_func(sol_gt, sol_hs)\n",
    "\n",
    "    # Optimization step\n",
    "    loss.backward(); opt.step(); opt.zero_grad(); scheduler.step()\n",
    "    print(f'Step: {i}, Residual loss: {loss:.8f}', end='\\r')\n",
    "    losses.append(loss.detach().cpu().item())"
   ]
  },
  {
   "cell_type": "code",
   "execution_count": 10,
   "id": "c3c6dbd7",
   "metadata": {},
   "outputs": [
    {
     "data": {
      "image/png": "[encoded data removed]",
      "text/plain": [
       "<Figure size 432x288 with 1 Axes>"
      ]
     },
     "metadata": {
      "needs_background": "light"
     },
     "output_type": "display_data"
    }
   ],
   "source": [
    "fig, ax = plt.subplots(1, 1)\n",
    "ax.plot(losses)\n",
    "ax.set_yscale('log')"
   ]
  },
  {
   "cell_type": "code",
   "execution_count": 11,
   "id": "1a93a519",
   "metadata": {},
   "outputs": [],
   "source": [
    "# Save the model\n",
    "torch.save(residual_dynamics_solver, 'saved_models/residual_dynamics_solver.pt')"
   ]
  }
 ],
 "metadata": {
  "interpreter": {
   "hash": "d77f8d9122331bf0c813f643ab906d6086736a1197fa074182ffff0b1ac62f18"
  },
  "kernelspec": {
   "display_name": "Python 3",
   "language": "python",
   "name": "python3"
  },
  "language_info": {
   "codemirror_mode": {
    "name": "ipython",
    "version": 3
   },
   "file_extension": ".py",
   "mimetype": "text/x-python",
   "name": "python",
   "nbconvert_exporter": "python",
   "pygments_lexer": "ipython3",
   "version": "3.8.10"
  }
 },
 "nbformat": 4,
 "nbformat_minor": 5
}
