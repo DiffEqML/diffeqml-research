{
 "cells": [
  {
   "cell_type": "markdown",
   "id": "16d24565-9caa-45d0-93c5-058cc7b4cce6",
   "metadata": {},
   "source": [
    "# Plot comparisons for Multi-stage Hypersolvers"
   ]
  },
  {
   "cell_type": "code",
   "execution_count": 1,
   "id": "971ee822-db84-4008-80a5-e2db637fdea8",
   "metadata": {},
   "outputs": [],
   "source": [
    "%load_ext autoreload\n",
    "%autoreload 2\n",
    "\n",
    "import time\n",
    "import torch\n",
    "import torch.nn as nn\n",
    "import matplotlib.pyplot as plt\n",
    "from math import pi as π\n",
    "\n",
    "import sys; sys.path.append(2*'../') # go n dirs back\n",
    "from src import *\n",
    "\n",
    "from torchdyn.core import NeuralODE\n",
    "from torchdyn.datasets import *\n",
    "from torchdyn.numerics import odeint, Euler, HyperEuler\n",
    "from torchdyn.numerics.solvers import Midpoint, SolverTemplate\n",
    "from torchdyn.numerics.hypersolvers import HyperMidpoint\n",
    "\n",
    "device = 'cpu' # feel free to change!"
   ]
  },
  {
   "cell_type": "code",
   "execution_count": 11,
   "id": "7752f29d",
   "metadata": {},
   "outputs": [],
   "source": [
    "class MultiStageHypersolver(SolverTemplate):\n",
    "    \"\"\"\n",
    "    Explicit multistage ODE stepper: inner stage is a vector field corrector\n",
    "    while the outer stage is a residual approximator of the ODE solver\n",
    "    \"\"\"\n",
    "    def __init__(self, inner_stage: nn.Module, outer_stage: nn.Module,\n",
    "                       base_solver=Midpoint, dtype=torch.float32):\n",
    "        super().__init__(order=base_solver().order)\n",
    "        self.dtype = dtype\n",
    "        self.stepping_class = 'fixed'\n",
    "        self.base_solver = base_solver\n",
    "        self.inner_stage = inner_stage\n",
    "        self.outer_stage = outer_stage\n",
    "\n",
    "    def step(self, f, x, t, dt, k1=None):\n",
    "        # Correct vector field with inner stage and propagate\n",
    "        self.vector_field = f\n",
    "        _, _x_sol, _ = self.base_solver().step(self.corrected_vector_field, x, t, dt, k1=k1)\n",
    "        # Residual correction with outer stage\n",
    "        x_sol = _x_sol + dt**self.base_solver().order * self.outer_stage(t, f(t, x))\n",
    "        return _, x_sol, _ \n",
    "\n",
    "    def corrected_vector_field(self, t, x):\n",
    "        return self.vector_field(t, x) + self.inner_stage(t, x)\n",
    "\n",
    "\n",
    "class HyperNetwork(nn.Module):\n",
    "    \"\"\"Simple hypernetwork using as input the current state, vector field and controller\"\"\"\n",
    "    def __init__(self, net, sys):\n",
    "        super().__init__()\n",
    "        self.net = net\n",
    "        self.sys = sys\n",
    "    \n",
    "    def forward(self, t, x):\n",
    "        xfu = torch.cat([x, self.sys.cur_f, self.sys.cur_u], -1)\n",
    "        return self.net(xfu)\n",
    "        "
   ]
  },
  {
   "cell_type": "code",
   "execution_count": 12,
   "id": "0a87f569",
   "metadata": {},
   "outputs": [],
   "source": [
    "# System we have\n",
    "sys = CartPole(RandConstController())\n",
    "\n",
    "# Real system\n",
    "sys_nominal = CartPole(RandConstController())\n",
    "sys_nominal.frictioncart = 0.1\n",
    "sys_nominal.frictionpole = 0.03\n",
    "\n",
    "\n",
    "# Initial distribution\n",
    "x0 = 2*π # limit of the state distribution (in rads and rads/second)\n",
    "init_dist = torch.distributions.Uniform(torch.Tensor([-x0, -x0, -x0, -x0]), torch.Tensor([x0, x0, x0, x0]))\n",
    "u_min, u_max = -30, 30\n"
   ]
  },
  {
   "cell_type": "markdown",
   "id": "1c2a47dd",
   "metadata": {},
   "source": [
    "## Plotting and comparisons: Hypersolver vs others"
   ]
  },
  {
   "cell_type": "code",
   "execution_count": 13,
   "id": "62901eeb",
   "metadata": {},
   "outputs": [],
   "source": [
    "from math import pi as π\n",
    "\n",
    "# Sample and plot some trajectories\n",
    "# We limit distribution and controllers since in reality we don't go out of the [-2pi, 2pi] bounds\n",
    "x0 = π # limit of the state distribution (in rads and rads/second)\n",
    "init_dist = torch.distributions.Uniform(torch.Tensor([-x0, -x0, -x0, -x0]), torch.Tensor([x0, x0, x0, x0]))\n",
    "x0 = init_dist.sample((100000,)).to(device)\n",
    "val = torch.Tensor(100000, 1).uniform_(-10,10).to(device) \n",
    "sys.u.u0 = val\n",
    "sys_nominal.u.u0 = val\n",
    "dt = 0.05\n",
    "\n",
    "Tf = 1\n",
    "t_span = torch.linspace(0, Tf, int(Tf/dt)+1).to(device)"
   ]
  },
  {
   "cell_type": "code",
   "execution_count": 14,
   "id": "742be614",
   "metadata": {},
   "outputs": [],
   "source": [
    "# Error analysis\n",
    "def smape(yhat, y):\n",
    "    return torch.abs(yhat - y) / (torch.abs(yhat) + torch.abs(y)) / 2\n",
    "\n",
    "plt.rcParams.update({\n",
    "    \"text.usetex\": True,\n",
    "    \"font.family\": \"serif\",\n",
    "    \"font.serif\": [\"Palatino\"],\n",
    "})\n",
    "\n",
    "\n",
    "def plot_trajs_errors():\n",
    "    fig, axs = plt.subplots(1, 4, figsize=(11,3))\n",
    "    # fig = plt.figure(figsize=(16,5))\n",
    "    # ax = fig.add_subplot(1,2,1)\n",
    "    titles = ['Position', 'Velocity', 'Angular Position', 'Angular Velocity']\n",
    "\n",
    "    alpha = .1\n",
    "    for i in range(4):\n",
    "        axs[i].plot(t_span, mean_hyper[:,i], 'tab:orange', label='Multistage Hypersolver (inaccurate model)')\n",
    "        axs[i].plot(t_span, mean_mp_wrong[:,i], 'tab:blue', label='Midpoint (inaccurate model)')\n",
    "        axs[i].plot(t_span, mean_euler[:,i], 'tab:red', label='Euler (nominal model)')\n",
    "        axs[i].plot(t_span, mean_mp[:,i], 'tab:green', label='Midpoint (nominal model)')\n",
    "\n",
    "        axs[i].set_yscale('log')\n",
    "        axs[i].set_title(titles[i])\n",
    "        axs[i].set_xlabel(f'Time $[s]$', labelpad=-4)\n",
    "        axs[i].set_ylabel(f'SMAPE')\n",
    "        axs[i].set_xticks([0, 1.0])\n",
    "        axs[i].set_xlim(0, 1)\n",
    "\n",
    "    handles, labels = axs[0].get_legend_handles_labels()\n",
    "    fig.legend(handles, labels, loc='lower center', ncol=len(labels), bbox_to_anchor=(0.5,-0.1))\n",
    "    plt.tight_layout()\n",
    "\n",
    "    fig.savefig('media/error_propagation_multistage.pdf',  bbox_inches = 'tight')\n",
    "\n",
    "    import tikzplotlib\n",
    "    tikzplotlib.save(\"media/error_propagation_multistage.tex\")\n",
    "\n",
    "def load_multistage(sys, folder='saved_models/hs_multistage_joint_snake.pt'):\n",
    "    multistagehs = torch.load(folder)\n",
    "    inner_stage_net = multistagehs.inner_stage.net \n",
    "    outer_stage_net = multistagehs.outer_stage.net \n",
    "    inner_stage_hypernet = HyperNetwork(inner_stage_net, sys)\n",
    "    outer_stage_hypernet = HyperNetwork(outer_stage_net, sys)\n",
    "    multistagehs.inner_stage = inner_stage_hypernet\n",
    "    multistagehs.outer_stage = outer_stage_hypernet\n",
    "    # print(multistagehs)\n",
    "    return multistagehs"
   ]
  },
  {
   "cell_type": "code",
   "execution_count": 15,
   "id": "638c8be3",
   "metadata": {},
   "outputs": [
    {
     "name": "stderr",
     "output_type": "stream",
     "text": [
      "/home/botu/anaconda3/lib/python3.8/site-packages/torchdyn/numerics/odeint.py:82: UserWarning: Setting tolerances has no effect on fixed-step methods\n",
      "  warn(\"Setting tolerances has no effect on fixed-step methods\")\n"
     ]
    },
    {
     "data": {
      "image/png": "[encoded data removed]",
      "text/plain": [
       "<Figure size 792x216 with 4 Axes>"
      ]
     },
     "metadata": {
      "needs_background": "light"
     },
     "output_type": "display_data"
    }
   ],
   "source": [
    "with torch.no_grad():\n",
    "    _, traj_euler = odeint(sys_nominal._dynamics, x0, t_span, solver='euler')\n",
    "    _hs = load_multistage(sys)\n",
    "    _, traj_hyper = odeint(sys._dynamics, x0, t_span, solver=_hs)\n",
    "    _, traj_mp = odeint(sys_nominal._dynamics, x0, t_span, solver='midpoint')\n",
    "    _, traj_mp_wrong = odeint(sys._dynamics, x0, t_span, solver='midpoint')\n",
    "    _, traj_gt = odeint(sys_nominal._dynamics, x0, t_span, solver='rk4', atol=1e-4, rtol=1e-4)\n",
    "    traj_euler = traj_euler.detach().cpu(); traj_hyper = traj_hyper.detach().cpu(); traj_gt = traj_gt.detach().cpu()\n",
    "    traj_mp = traj_mp.detach().cpu(); traj_mp_wrong = traj_mp_wrong.detach().cpu()\n",
    "    t_span = t_span.cpu()\n",
    "\n",
    "err_euler = smape(traj_gt, traj_euler).detach().cpu()\n",
    "err_hyper = smape(traj_gt, traj_hyper).detach().cpu()\n",
    "err_mp  = smape(traj_gt, traj_mp).detach().cpu()\n",
    "err_mp_wrong = smape(traj_gt, traj_mp_wrong).detach().cpu()\n",
    "mean_euler, std_euler = err_euler.mean(1), err_euler.std(1)\n",
    "mean_hyper, std_hyper = err_hyper.mean(1), err_hyper.std(1)\n",
    "mean_mp, std_mp = err_mp.mean(1), err_mp.std(1)\n",
    "mean_mp_wrong, std_mp_wrong = err_mp_wrong.mean(1), err_mp_wrong.std(1)\n",
    "\n",
    "\n",
    "plot_trajs_errors()"
   ]
  },
  {
   "cell_type": "markdown",
   "id": "dda8deb6",
   "metadata": {},
   "source": [
    "## Hypersolver ablation study"
   ]
  },
  {
   "cell_type": "code",
   "execution_count": 39,
   "id": "a568d01d",
   "metadata": {},
   "outputs": [],
   "source": [
    "def load_multistage(sys, folder='saved_models/hs_multistage_joint_snake.pt'):\n",
    "    multistagehs = torch.load(folder)\n",
    "    inner_stage_net = multistagehs.inner_stage.net \n",
    "    outer_stage_net = multistagehs.outer_stage.net \n",
    "    inner_stage_hypernet = HyperNetwork(inner_stage_net, sys)\n",
    "    outer_stage_hypernet = HyperNetwork(outer_stage_net, sys)\n",
    "    multistagehs.inner_stage = inner_stage_hypernet\n",
    "    multistagehs.outer_stage = outer_stage_hypernet\n",
    "    return multistagehs\n",
    "\n",
    "# Ablation: set network to 0\n",
    "class Dummy(nn.Module):\n",
    "    def __init__(self, net):\n",
    "        super().__init__()\n",
    "        self.net = net\n",
    "    \n",
    "    def forward(self, x):\n",
    "        return 0\n",
    "\n",
    "dummy_stage = HyperNetwork(Dummy(None), sys)\n",
    "\n",
    "hs_multistage_joint_training = load_multistage(sys, folder='saved_models/hs_multistage_joint_snake.pt')\n",
    "hs_multistage_separated_training = load_multistage(sys, folder='saved_models/hs_multistage_separated_snake.pt')\n",
    "residual_dynamics = load_multistage(sys, folder='saved_models/residual_dynamics_solver.pt')\n",
    "hs_multistage_joint_training_no_inner = load_multistage(sys, folder='saved_models/hs_multistage_joint_snake.pt')\n",
    "hs_multistage_joint_training_no_inner.inner_stage = dummy_stage\n",
    "hs_multistage_joint_training_no_outer = load_multistage(sys, folder='saved_models/hs_multistage_joint_snake.pt')\n",
    "hs_multistage_joint_training_no_outer.outer_stage = dummy_stage"
   ]
  },
  {
   "cell_type": "code",
   "execution_count": 83,
   "id": "4a9c2d4c",
   "metadata": {},
   "outputs": [],
   "source": [
    "from math import pi as π\n",
    "\n",
    "# Sample and plot some trajectories\n",
    "x0 = 2*π # limit of the state distribution (in rads and rads/second)\n",
    "init_dist = torch.distributions.Uniform(torch.Tensor([-x0, -x0, -x0, -x0]), torch.Tensor([x0, x0, x0, x0]))\n",
    "x0 = init_dist.sample((100000,)).to(device)\n",
    "val = torch.Tensor(100000, 1).uniform_(-30,30).to(device)\n",
    "sys.u.u0 = val\n",
    "sys_nominal.u.u0 = val\n",
    "\n",
    "# just one step trajectory for error calculation\n",
    "t_span = torch.linspace(0, dt, 2).to(device)\n",
    "\n",
    "with torch.no_grad():\n",
    "    # Ground truth\n",
    "    _, traj_gt = odeint(sys_nominal._dynamics, x0, t_span, solver='rk4') # TODO substitute \n",
    "\n",
    "    # Classical solvers\n",
    "    _, traj_mp_wrong = odeint(sys._dynamics, x0, t_span, solver='midpoint')\n",
    "    _, traj_eu = odeint(sys_nominal._dynamics, x0, t_span, solver='euler')\n",
    "    _, traj_mp = odeint(sys_nominal._dynamics, x0, t_span, solver='midpoint')\n",
    "\n",
    "    # Hypersolvers and ablations\n",
    "    _, traj_hs_multistage_joint_training = odeint(sys._dynamics, x0, t_span, solver=hs_multistage_joint_training)\n",
    "    _, traj_hs_multistage_separated_training = odeint(sys._dynamics, x0, t_span, solver=hs_multistage_separated_training)\n",
    "    _, traj_residual_dynamics = odeint(sys._dynamics, x0, t_span, solver=residual_dynamics)\n",
    "    _, traj_hs_multistage_joint_training_no_inner = odeint(sys._dynamics, x0, t_span, solver=hs_multistage_joint_training_no_inner)\n",
    "    _, traj_hs_multistage_joint_training_no_outer = odeint(sys._dynamics, x0, t_span, solver=hs_multistage_joint_training_no_outer)\n",
    "\n",
    "    t_span = t_span.cpu()"
   ]
  },
  {
   "cell_type": "code",
   "execution_count": 84,
   "id": "4d999548",
   "metadata": {},
   "outputs": [],
   "source": [
    "def terminal_mae(y, y_pred, dim=1):\n",
    "    \"\"\"Compute MAE along dimension\"\"\"\n",
    "    mae = ((y[-1] - y_pred[-1]).abs()).mean(dim)\n",
    "    return mae\n",
    "\n",
    "mae_mp_wrong = terminal_mae(traj_gt, traj_mp_wrong)\n",
    "mae_eu= terminal_mae(traj_gt, traj_eu)\n",
    "mae_mp = terminal_mae(traj_gt, traj_mp)\n",
    "\n",
    "mae_hs_joint = terminal_mae(traj_gt, traj_hs_multistage_joint_training)\n",
    "mae_hs_separate = terminal_mae(traj_gt, traj_hs_multistage_separated_training)\n",
    "mae_resdyn = terminal_mae(traj_gt, traj_residual_dynamics)\n",
    "mae_hs_joint_no_in = terminal_mae(traj_gt, traj_hs_multistage_joint_training_no_inner)\n",
    "mae_hs_joint_no_out = terminal_mae(traj_gt, traj_hs_multistage_joint_training_no_outer)"
   ]
  },
  {
   "cell_type": "code",
   "execution_count": 106,
   "id": "fc33a368",
   "metadata": {},
   "outputs": [
    {
     "data": {
      "image/png": "[encoded data removed]",
      "text/plain": [
       "<Figure size 864x216 with 1 Axes>"
      ]
     },
     "metadata": {
      "needs_background": "light"
     },
     "output_type": "display_data"
    }
   ],
   "source": [
    "plt.rcParams.update({\n",
    "    \"text.usetex\": True,\n",
    "    \"font.family\": \"serif\",\n",
    "    \"font.serif\": [\"Palatino\"],\n",
    "})\n",
    "\n",
    "colors = ['tab:orange', 'tab:orange', 'tab:orange', 'tab:orange', 'tab:grey', 'tab:red', 'tab:green', 'tab:blue']\n",
    "labels = ['MS joint training', 'MS separated training', 'MS no inner stage', 'MS no outer stage', 'Residual dynamics', 'Euler (nominal)', 'Midpoint (nominal)', 'Midpoint (inaccurate)']\n",
    "plots = [mae_hs_joint, mae_hs_separate, mae_hs_joint_no_in, mae_hs_joint_no_out,  mae_resdyn, mae_eu, mae_mp, mae_mp_wrong]\n",
    "\n",
    "fig, ax = plt.subplots(1,1, figsize=(12,3))\n",
    "\n",
    "# heights = [h.mean() for h in plots]\n",
    "# bp = ax.bar(labels, heights,\n",
    "#                 patch_artist=True, labels=labels)\n",
    "\n",
    "bp = ax.boxplot(plots,\n",
    "                patch_artist=True, labels=labels)\n",
    "\n",
    "for b, m, c in zip(bp['boxes'], bp['medians'], colors):\n",
    "    b.set_facecolor(c)\n",
    "    b.set_alpha(0.6)\n",
    "    m.set(color='black', linestyle='-.')\n",
    "ax.set_yscale('log')\n",
    "ax.set_ylim(5e-4)\n",
    "ax.set_ylabel('One Step MAE')\n",
    "plt.tight_layout()\n",
    "\n",
    "# Saving\n",
    "import tikzplotlib\n",
    "fig.savefig('media/multistage_mae.pdf',  bbox_inches = 'tight')\n",
    "tikzplotlib.save(\"media/multistage_mae.tex\")"
   ]
  }
 ],
 "metadata": {
  "interpreter": {
   "hash": "d77f8d9122331bf0c813f643ab906d6086736a1197fa074182ffff0b1ac62f18"
  },
  "kernelspec": {
   "display_name": "Python 3",
   "language": "python",
   "name": "python3"
  },
  "language_info": {
   "codemirror_mode": {
    "name": "ipython",
    "version": 3
   },
   "file_extension": ".py",
   "mimetype": "text/x-python",
   "name": "python",
   "nbconvert_exporter": "python",
   "pygments_lexer": "ipython3",
   "version": "3.8.5"
  }
 },
 "nbformat": 4,
 "nbformat_minor": 5
}
