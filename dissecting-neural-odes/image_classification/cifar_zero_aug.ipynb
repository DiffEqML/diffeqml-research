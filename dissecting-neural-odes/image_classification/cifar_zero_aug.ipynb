{
 "cells": [
  {
   "cell_type": "markdown",
   "metadata": {},
   "source": [
    "### CIFAR Image Classification with 0-augmented Neural ODEs"
   ]
  },
  {
   "cell_type": "code",
   "execution_count": 1,
   "metadata": {},
   "outputs": [],
   "source": [
    "import torch\n",
    "import torch.nn as nn\n",
    "from torch.utils.data import DataLoader\n",
    "from torchvision import datasets, transforms\n",
    "\n",
    "import pytorch_lightning as pl\n",
    "from pytorch_lightning.loggers import WandbLogger\n",
    "from pytorch_lightning.metrics.functional import accuracy\n",
    "from utils import get_cifar_dloaders, CIFARLearner\n",
    "\n",
    "from torchdyn.models import *; from torchdyn import *"
   ]
  },
  {
   "cell_type": "code",
   "execution_count": 2,
   "metadata": {},
   "outputs": [
    {
     "name": "stdout",
     "output_type": "stream",
     "text": [
      "Files already downloaded and verified\n"
     ]
    }
   ],
   "source": [
    "device = torch.device(\"cuda:0\" if torch.cuda.is_available() else \"cpu\")\n",
    "trainloader, testloader = get_cifar_dloaders(batch_size=64)"
   ]
  },
  {
   "cell_type": "markdown",
   "metadata": {},
   "source": [
    "#### Define the model"
   ]
  },
  {
   "cell_type": "code",
   "execution_count": 4,
   "metadata": {},
   "outputs": [],
   "source": [
    "func = nn.Sequential(nn.GroupNorm(42, 42),\n",
    "                     nn.Conv2d(42, 42, 3, padding=1, bias=False),\n",
    "                     nn.Softplus(),                   \n",
    "                     nn.Conv2d(42, 42, 3, padding=1, bias=False),\n",
    "                     nn.Softplus(), \n",
    "                     nn.GroupNorm(42, 42),\n",
    "                     nn.Conv2d(42, 42, 1)\n",
    "                     ).to(device)\n",
    "\n",
    "nde = NeuralDE(func, \n",
    "               solver='dopri5',\n",
    "               sensitivity='adjoint',\n",
    "               atol=1e-4,\n",
    "               rtol=1e-4,\n",
    "               s_span=torch.linspace(0, 1, 2)).to(device)\n",
    "\n",
    "# NOTE: the first noop `Augmenter` is used only to keep the `nde` at index `2`. Used to extract NFEs in CIFARLearner.\n",
    "model = nn.Sequential(Augmenter(1, 0), # does nothing\n",
    "                      Augmenter(1, 39),\n",
    "                      nde,\n",
    "                      nn.Conv2d(42, 6, 1),\n",
    "                      nn.AdaptiveAvgPool2d(4),\n",
    "                      nn.Flatten(),                     \n",
    "                      nn.Linear(6*16, 10)).to(device)"
   ]
  },
  {
   "cell_type": "code",
   "execution_count": null,
   "metadata": {},
   "outputs": [],
   "source": [
    "learn = CIFARLearner(model, trainloader, testloader)\n",
    "trainer = pl.Trainer(max_epochs=20, gpus=1)\n",
    "                     \n",
    "trainer.fit(learn)"
   ]
  }
 ],
 "metadata": {
  "kernelspec": {
   "display_name": "py37",
   "language": "python",
   "name": "py37"
  },
  "language_info": {
   "codemirror_mode": {
    "name": "ipython",
    "version": 3
   },
   "file_extension": ".py",
   "mimetype": "text/x-python",
   "name": "python",
   "nbconvert_exporter": "python",
   "pygments_lexer": "ipython3",
   "version": "3.7.7"
  },
  "latex_envs": {
   "LaTeX_envs_menu_present": true,
   "autoclose": false,
   "autocomplete": true,
   "bibliofile": "biblio.bib",
   "cite_by": "apalike",
   "current_citInitial": 1,
   "eqLabelWithNumbers": true,
   "eqNumInitial": 1,
   "hotkeys": {
    "equation": "Ctrl-E",
    "itemize": "Ctrl-I"
   },
   "labels_anchors": false,
   "latex_user_defs": false,
   "report_style_numbering": false,
   "user_envs_cfg": false
  },
  "varInspector": {
   "cols": {
    "lenName": 16,
    "lenType": 16,
    "lenVar": 40
   },
   "kernels_config": {
    "python": {
     "delete_cmd_postfix": "",
     "delete_cmd_prefix": "del ",
     "library": "var_list.py",
     "varRefreshCmd": "print(var_dic_list())"
    },
    "r": {
     "delete_cmd_postfix": ") ",
     "delete_cmd_prefix": "rm(",
     "library": "var_list.r",
     "varRefreshCmd": "cat(var_dic_list()) "
    }
   },
   "types_to_exclude": [
    "module",
    "function",
    "builtin_function_or_method",
    "instance",
    "_Feature"
   ],
   "window_display": false
  }
 },
 "nbformat": 4,
 "nbformat_minor": 4
}
